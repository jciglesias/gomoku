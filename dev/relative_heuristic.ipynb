{
 "cells": [
  {
   "cell_type": "code",
   "execution_count": 51,
   "id": "bad5c8eb",
   "metadata": {},
   "outputs": [],
   "source": [
    "import pandas as pd\n",
    "import numpy as np\n",
    "import time\n",
    "import re"
   ]
  },
  {
   "cell_type": "code",
   "execution_count": 61,
   "id": "a0a3d12c",
   "metadata": {},
   "outputs": [],
   "source": [
    "board_size = 6\n",
    "win_length = 5\n",
    "player = 1\n",
    "directions = [(0, 1),\n",
    "            (1, 0),\n",
    "            (1, 1),\n",
    "            (-1, 1)\n",
    "            ]"
   ]
  },
  {
   "cell_type": "code",
   "execution_count": 68,
   "id": "76e572cb",
   "metadata": {},
   "outputs": [
    {
     "name": "stdout",
     "output_type": "stream",
     "text": [
      "[[ 0  0  0  0  0  0]\n",
      " [ 1  0  1 -1  0  0]\n",
      " [ 1  0  1 -1 -1  1]\n",
      " [ 1  0  0  0  0  0]\n",
      " [ 1  0  0  0  0  0]\n",
      " [ 0  0  0  0  0  0]]\n"
     ]
    }
   ],
   "source": [
    "tab  = [[0 for _ in range(board_size)] for _ in range(board_size)]\n",
    "tab = np.array(tab)\n",
    "\n",
    "row = 3\n",
    "col = 3\n",
    "\n",
    "tab[1][0] = 1\n",
    "tab[3][0] = -1\n",
    "tab[4][0] = 1\n",
    "tab[1][1] = 0\n",
    "tab[1][2] = 1\n",
    "tab[1][3] = -1\n",
    "tab[2][3] = 1\n",
    "tab[2][0] = 1\n",
    "tab[3][0] = 1\n",
    "tab[2][2] = 1\n",
    "tab[2][3] = -1\n",
    "tab[2][4] = -1\n",
    "tab[2][5] = 1\n",
    "\n",
    "print(tab)"
   ]
  },
  {
   "cell_type": "code",
   "execution_count": 43,
   "id": "0f80abbe",
   "metadata": {},
   "outputs": [
    {
     "name": "stdout",
     "output_type": "stream",
     "text": [
      "['X_OX__', '_XO___', '__O___', 'X_OO_']\n"
     ]
    }
   ],
   "source": [
    "row = 2\n",
    "col = 2\n",
    "i = 0\n",
    "lignes = []\n",
    "for i in range(4):\n",
    "    ligne = ''  \n",
    "    # print(\"IIII\", i)\n",
    "    # print(f\"direction {directions[i][0]} / {directions[i][1]}\")\n",
    "    for j in range(-4, 5):\n",
    "        r = row + j * directions[i][0]\n",
    "        c = col + j * directions[i][1]\n",
    "        # print(f\"j {j} r {r} c {c} direction {directions[i][0]} / {directions[i][1]}\")\n",
    "        if 0 <= r < board_size and 0 <= c < board_size:\n",
    "            # print(f\"tab[r][c] {tab[r][c]}\")\n",
    "            if tab[r][c] == 0:\n",
    "                ligne += '_'\n",
    "            elif tab[r][c] == player:\n",
    "                ligne += 'X'\n",
    "            else:\n",
    "                ligne += 'O'\n",
    "    # print(ligne)\n",
    "    lignes.append(ligne)\n",
    "print(lignes)"
   ]
  },
  {
   "cell_type": "code",
   "execution_count": 62,
   "id": "a49bd3a1",
   "metadata": {},
   "outputs": [],
   "source": [
    "def getlines(board_size, win_len, tab, player, row, col):\n",
    "    lignes = []\n",
    "    for i in range(win_len - 1):\n",
    "        ligne = ''  \n",
    "        for j in range(-(win_len - 1), win_len):\n",
    "            r = row + j * directions[i][0]\n",
    "            c = col + j * directions[i][1]\n",
    "            if 0 <= r < board_size and 0 <= c < board_size:\n",
    "                if tab[r][c] == 0:\n",
    "                    ligne += '_'\n",
    "                elif tab[r][c] == player:\n",
    "                    ligne += 'X'\n",
    "                else:\n",
    "                    ligne += 'O'\n",
    "        lignes.append(ligne)\n",
    "    return lignes\n",
    "\n",
    "def extract_motifs(ligne):\n",
    "    res = 0\n",
    "    pattern_scores = [\n",
    "        ('XXXXX', 100000),   # 5\n",
    "        ('_XXXX', 10000),    # 4 opened\n",
    "        ('XXXX_', 10000),    # 4 opened\n",
    "        ('XXXX', 5000),      # 4 blocked\n",
    "        ('_XXX', 1000),    # 3 opened\n",
    "        ('XXX_', 1000),    # 3 opened\n",
    "        ('XXX', 100),      # 3 blocked\n",
    "        ('XX', 50),      # 3 blocked\n",
    "        ('X', 10),      # 3 blocked\n",
    "    ]\n",
    "    for pattern, score in pattern_scores:\n",
    "        index = 0\n",
    "        while index < len(ligne):\n",
    "            if ligne[index:].startswith(pattern):\n",
    "                res += score\n",
    "                index += 1\n",
    "            else:\n",
    "                index += 1\n",
    "    return res"
   ]
  },
  {
   "cell_type": "code",
   "execution_count": 66,
   "id": "0f4c4f27",
   "metadata": {},
   "outputs": [
    {
     "name": "stdout",
     "output_type": "stream",
     "text": [
      "['X_YOOX', '_XY___', '__Y___', 'X_YO_']\n",
      "0\n"
     ]
    }
   ],
   "source": [
    "row = 2\n",
    "col = 2\n",
    "lignes = getlines(board_size, 5, tab, player, row, col)\n",
    "res = 0\n",
    "print(lignes)\n",
    "for ligne in lignes:\n",
    "    res += extract_motifs(ligne)\n",
    "print(res)"
   ]
  },
  {
   "cell_type": "code",
   "execution_count": 77,
   "id": "0c55a7df",
   "metadata": {},
   "outputs": [],
   "source": [
    "def getlines(board_size, win_len, tab, player, row, col):\n",
    "    lignes = []\n",
    "    for i in range(win_len - 1):\n",
    "        ligne = ''  \n",
    "        for j in range(-(win_len - 1), win_len):\n",
    "            r = row + j * directions[i][0]\n",
    "            c = col + j * directions[i][1]\n",
    "            if 0 <= r < board_size and 0 <= c < board_size:\n",
    "                if r == row and c == col:\n",
    "                    ligne += 'Y'\n",
    "                elif tab[r][c] == 0:\n",
    "                    ligne += '_'\n",
    "                elif tab[r][c] == player:\n",
    "                    ligne += 'X'\n",
    "                else:\n",
    "                    ligne += 'O'\n",
    "        lignes.append(ligne)\n",
    "    return lignes\n",
    "\n",
    "def extract_motifs(ligne):\n",
    "    res = 0\n",
    "    pattern_scores = [\n",
    "        ('XOOY', 100000),   # capture\n",
    "        ('YOOX', 100000)   # capture\n",
    "    ]\n",
    "    for pattern, score in pattern_scores:\n",
    "        match = re.search(pattern, ligne)\n",
    "        print(f\"Pattern {pattern} ligne {ligne} match {match}\")\n",
    "        if match:\n",
    "            res += score\n",
    "    return res"
   ]
  },
  {
   "cell_type": "code",
   "execution_count": 70,
   "id": "3a4f1f32",
   "metadata": {},
   "outputs": [
    {
     "name": "stdout",
     "output_type": "stream",
     "text": [
      "[[ 0  0  0  0  0  0]\n",
      " [ 1  0  1 -1  0  0]\n",
      " [ 1  0  1 -1 -1  1]\n",
      " [ 1  0  0  0  0  0]\n",
      " [ 1  0  0  0  0  0]\n",
      " [ 0  0  0  0  0  0]]\n"
     ]
    }
   ],
   "source": [
    "tab  = [[0 for _ in range(board_size)] for _ in range(board_size)]\n",
    "tab = np.array(tab)\n",
    "\n",
    "row = 3\n",
    "col = 3\n",
    "\n",
    "tab[1][0] = 1\n",
    "tab[3][0] = -1\n",
    "tab[4][0] = 1\n",
    "tab[1][1] = 0\n",
    "tab[1][2] = 1\n",
    "tab[1][3] = -1\n",
    "tab[2][3] = 1\n",
    "tab[2][0] = 1\n",
    "tab[3][0] = 1\n",
    "tab[2][2] = 1\n",
    "tab[2][3] = -1\n",
    "tab[2][4] = -1\n",
    "tab[2][5] = 1\n",
    "\n",
    "print(tab)"
   ]
  },
  {
   "cell_type": "code",
   "execution_count": 78,
   "id": "7e244750",
   "metadata": {},
   "outputs": [
    {
     "name": "stdout",
     "output_type": "stream",
     "text": [
      "['X_YOOX', '_XY___', '__Y___', 'X_YO_']\n",
      "Pattern XOOY ligne X_YOOX match None\n",
      "Pattern YOOX ligne X_YOOX match <re.Match object; span=(2, 6), match='YOOX'>\n",
      "Pattern XOOY ligne _XY___ match None\n",
      "Pattern YOOX ligne _XY___ match None\n",
      "Pattern XOOY ligne __Y___ match None\n",
      "Pattern YOOX ligne __Y___ match None\n",
      "Pattern XOOY ligne X_YO_ match None\n",
      "Pattern YOOX ligne X_YO_ match None\n",
      "100000\n"
     ]
    }
   ],
   "source": [
    "row = 2\n",
    "col = 2\n",
    "lignes = getlines(board_size, 5, tab, player, row, col)\n",
    "print(lignes)\n",
    "res = 0\n",
    "for ligne in lignes:\n",
    "    res += extract_motifs(ligne)\n",
    "print(res)"
   ]
  },
  {
   "cell_type": "code",
   "execution_count": 76,
   "id": "91cf55af",
   "metadata": {},
   "outputs": [
    {
     "name": "stdout",
     "output_type": "stream",
     "text": [
      "Motif trouvé !\n"
     ]
    }
   ],
   "source": [
    "pattern = \"YOOX\"\n",
    "string = \"X_YOOX\"\n",
    "match = re.search(pattern, string)\n",
    "if match:\n",
    "    print(\"Motif trouvé !\")\n",
    "else:\n",
    "    print(\"Motif non trouvé\")"
   ]
  }
 ],
 "metadata": {
  "kernelspec": {
   "display_name": "Python 3",
   "language": "python",
   "name": "python3"
  },
  "language_info": {
   "codemirror_mode": {
    "name": "ipython",
    "version": 3
   },
   "file_extension": ".py",
   "mimetype": "text/x-python",
   "name": "python",
   "nbconvert_exporter": "python",
   "pygments_lexer": "ipython3",
   "version": "3.10.14"
  }
 },
 "nbformat": 4,
 "nbformat_minor": 5
}

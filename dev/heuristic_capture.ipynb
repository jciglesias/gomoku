{
 "cells": [
  {
   "cell_type": "code",
   "execution_count": 2,
   "id": "08e65caa",
   "metadata": {},
   "outputs": [],
   "source": [
    "import pandas as pd\n",
    "import numpy as np\n",
    "import time"
   ]
  },
  {
   "cell_type": "code",
   "execution_count": 3,
   "id": "b7fcfd6b",
   "metadata": {},
   "outputs": [],
   "source": [
    "board_size = 6\n",
    "win_length = 5\n",
    "player = 1"
   ]
  },
  {
   "cell_type": "code",
   "execution_count": 4,
   "id": "e857ec23",
   "metadata": {},
   "outputs": [],
   "source": [
    "directions = [(-1, -1),\n",
    "            (-1, 0),\n",
    "            (-1, 1),\n",
    "            (0, -1),\n",
    "            (0, 1),\n",
    "            (1, -1),\n",
    "            (1, 0),\n",
    "            (1, 1)\n",
    "            ]"
   ]
  },
  {
   "cell_type": "code",
   "execution_count": 37,
   "id": "ec07ade1",
   "metadata": {},
   "outputs": [],
   "source": [
    "def check_alignement_capture(board, row, col, player):\n",
    "    for dr, dc in directions:\n",
    "        r, c = row + dr, col + dc\n",
    "        if 0 <= r < len(board) and 0 <= c < len(board):\n",
    "            if board[r][c] == -player:  # Found an opponent piece\n",
    "                # search in the same direction for another opponent piece\n",
    "                r2, c2 = r + dr, c + dc\n",
    "                if 0 <= r2 < len(board) and 0 <= c2 < len(board):\n",
    "                    if board[r2][c2] == -player:\n",
    "                        # check if the next cell in the same direction is player's piece\n",
    "                        r3, c3 = r2 + dr, c2 + dc\n",
    "                        if 0 <= r3 < len(board) and 0 <= c3 < len(board):\n",
    "                            if board[r3][c3] == player:\n",
    "                                return True\n",
    "    return False"
   ]
  },
  {
   "cell_type": "code",
   "execution_count": 35,
   "id": "7b0b3f04",
   "metadata": {},
   "outputs": [
    {
     "name": "stdout",
     "output_type": "stream",
     "text": [
      "[[ 0  0  0  0  0  0]\n",
      " [ 1  0  0  0  0  0]\n",
      " [-1  0  0  0  0  0]\n",
      " [-1  0  0  0  0  0]\n",
      " [ 0  0  0  0  0  0]\n",
      " [ 0  0  0  0  0  0]]\n"
     ]
    }
   ],
   "source": [
    "tab  = [[0 for _ in range(board_size)] for _ in range(board_size)]\n",
    "tab = np.array(tab)\n",
    "\n",
    "tab[1][0] = 1\n",
    "tab[2][0] = -1\n",
    "tab[3][0] = -1\n",
    "tab[4][0] = 0\n",
    "# tab[1][0] = -1\n",
    "# tab[1][1] = 0\n",
    "# tab[1][2] = 1\n",
    "# tab[1][3] = 1\n",
    "# tab[2][3] = 1\n",
    "# tab[1][0] = 1\n",
    "# tab[2][0] = 1\n",
    "# tab[3][0] = 1\n",
    "\n",
    "print(tab)"
   ]
  },
  {
   "cell_type": "code",
   "execution_count": null,
   "id": "a470548b",
   "metadata": {},
   "outputs": [
    {
     "ename": "KeyError",
     "evalue": "1",
     "output_type": "error",
     "traceback": [
      "\u001b[0;31m---------------------------------------------------------------------------\u001b[0m",
      "\u001b[0;31mKeyError\u001b[0m                                  Traceback (most recent call last)",
      "Cell \u001b[0;32mIn[44], line 4\u001b[0m\n\u001b[1;32m      2\u001b[0m row \u001b[38;5;241m=\u001b[39m \u001b[38;5;241m4\u001b[39m\n\u001b[1;32m      3\u001b[0m col \u001b[38;5;241m=\u001b[39m \u001b[38;5;241m0\u001b[39m\n\u001b[0;32m----> 4\u001b[0m \u001b[38;5;28mprint\u001b[39m(\u001b[38;5;28mtype\u001b[39m(\u001b[43mscore\u001b[49m\u001b[43m[\u001b[49m\u001b[38;5;241;43m1\u001b[39;49m\u001b[43m]\u001b[49m))\n",
      "\u001b[0;31mKeyError\u001b[0m: 1"
     ]
    }
   ],
   "source": [
    "score = {\"1\": 2, \"-1\": 1}\n",
    "row = 4\n",
    "col = 0\n",
    "print(type(score[\"1\"]))"
   ]
  },
  {
   "cell_type": "code",
   "execution_count": null,
   "id": "7690b5f3",
   "metadata": {},
   "outputs": [
    {
     "name": "stdout",
     "output_type": "stream",
     "text": [
      "[[ 0  0  0  0  0  0]\n",
      " [ 1  0  0  0  0  0]\n",
      " [-1  0  0  0  0  0]\n",
      " [-1  0  0  0  0  0]\n",
      " [ 0  0  0  0  0  0]\n",
      " [ 0  0  0  0  0  0]]\n",
      "2\n"
     ]
    }
   ],
   "source": [
    "scores = [0,\n",
    "          10,\n",
    "          100,\n",
    "          1000,\n",
    "          10**(win_len)\n",
    "            ]\n",
    "\n",
    "print(tab)\n",
    "res = 0\n",
    "if check_alignement_capture(tab, row, col, player):\n",
    "    res += score[str(player)]\n",
    "print(res)"
   ]
  },
  {
   "cell_type": "code",
   "execution_count": 47,
   "id": "3991d17d",
   "metadata": {},
   "outputs": [
    {
     "name": "stdout",
     "output_type": "stream",
     "text": [
      "[[0, 0, 0, 0, 0, 100000], [0, 0, 0.01, 1, 100, 100000], [0, 0, 0.1, 10, 1000, 100000]]\n"
     ]
    }
   ],
   "source": [
    "win_len = 5\n",
    "reward_closed = [0] * (win_len + 1)\n",
    "reward_open1 = [0] + [0] + [10**i for i in range(-2, win_len, 2)]\n",
    "reward_open2 = [0] + [0] + [10**i for i in range(-1, win_len + 1, 2)]\n",
    "reward_closed[win_len] = 10**(win_len)\n",
    "reward_open1[win_len] = 10**(win_len)\n",
    "reward = [reward_closed, reward_open1, reward_open2]\n",
    "print(reward)"
   ]
  },
  {
   "cell_type": "code",
   "execution_count": 68,
   "id": "1e17a528",
   "metadata": {},
   "outputs": [
    {
     "name": "stdout",
     "output_type": "stream",
     "text": [
      "[110, 200, 1100, 10100, 100000]\n"
     ]
    }
   ],
   "source": [
    "reward_capture = [100 + 10**(i+1) for i in range(5)]\n",
    "reward_capture[4] = 10**(win_len)\n",
    "print(reward_capture)"
   ]
  },
  {
   "cell_type": "code",
   "execution_count": null,
   "id": "ee370a21",
   "metadata": {},
   "outputs": [
    {
     "name": "stdout",
     "output_type": "stream",
     "text": [
      "200\n"
     ]
    }
   ],
   "source": [
    "res = 0\n",
    "if check_alignement_capture(tab, row, col, player):\n",
    "    res += reward_capture[score[str(player)]]\n",
    "print(res)"
   ]
  },
  {
   "cell_type": "code",
   "execution_count": 9,
   "id": "65463524",
   "metadata": {},
   "outputs": [
    {
     "name": "stdout",
     "output_type": "stream",
     "text": [
      "[[ 0  0  0  0  0  0]\n",
      " [ 0  1  0  0  0  0]\n",
      " [ 0  1  0  0  0  0]\n",
      " [ 0  0  1  1  0  0]\n",
      " [ 0  0  0  0  0 -1]\n",
      " [ 0  0  0 -1 -1  0]]\n"
     ]
    }
   ],
   "source": [
    "board_size = 6\n",
    "tab  = [[0 for _ in range(board_size)] for _ in range(board_size)]\n",
    "tab = np.array(tab)\n",
    "\n",
    "tab[1][1] = 1\n",
    "tab[2][1] = 1\n",
    "tab[3][2] = 1\n",
    "tab[3][3] = 1\n",
    "tab[5][4] = -1\n",
    "tab[5][3] = -1\n",
    "tab[4][5] = -1\n",
    "# tab[1][1] = 0\n",
    "# tab[1][2] = 1\n",
    "# tab[1][3] = 1\n",
    "# tab[2][3] = 1\n",
    "# tab[1][0] = 1\n",
    "# tab[2][0] = 1\n",
    "# tab[3][0] = 1\n",
    "\n",
    "print(tab)"
   ]
  },
  {
   "cell_type": "code",
   "execution_count": 20,
   "id": "f0903218",
   "metadata": {},
   "outputs": [
    {
     "name": "stdout",
     "output_type": "stream",
     "text": [
      "/\n",
      "The autoreload extension is already loaded. To reload it, use:\n",
      "  %reload_ext autoreload\n",
      "i,j = 1 1 => 1\n",
      "i,j = 1 2 => 1\n",
      "i,j = 1 3 => 0\n",
      "i,j = 1 4 => 0\n",
      "i,j = 2 3 => 1\n",
      "i,j = 2 4 => 0\n",
      "i,j = 2 5 => 0\n",
      "i,j = 3 1 => 1\n",
      "i,j = 3 2 => 0\n",
      "i,j = 3 3 => 1\n",
      "i,j = 3 4 => 0\n",
      "Check double threes 1 0\n",
      "i,j = 1 1 => 1\n",
      "i,j = 1 2 => 0\n",
      "i,j = 1 3 => 1\n",
      "i,j = 1 4 => 0\n",
      "i,j = 2 1 => 1\n",
      "i,j = 2 2 => 0\n",
      "i,j = 2 3 => 0\n",
      "i,j = 3 2 => 1\n",
      "i,j = 3 3 => 1\n",
      "i,j = 3 4 => 0\n",
      "i,j = 3 5 => 0\n",
      "Check double threes 2 0\n",
      "Check double threes 3 0\n",
      "Check double threes 4 0\n"
     ]
    },
    {
     "data": {
      "text/plain": [
       "False"
      ]
     },
     "execution_count": 20,
     "metadata": {},
     "output_type": "execute_result"
    }
   ],
   "source": [
    "%cd ..\n",
    "from src.valid_move import check_threes\n",
    "%load_ext autoreload\n",
    "%autoreload 2\n",
    "\n",
    "check_threes(tab, 1, 3, 1)"
   ]
  },
  {
   "cell_type": "code",
   "execution_count": 51,
   "id": "99a46ba8",
   "metadata": {},
   "outputs": [
    {
     "name": "stdout",
     "output_type": "stream",
     "text": [
      "[[0 0 0 0 0 0]\n",
      " [0 6 1 0 0 0]\n",
      " [0 0 0 5 0 0]\n",
      " [0 0 1 0 1 0]\n",
      " [0 1 0 0 0 0]\n",
      " [0 0 0 0 0 0]]\n"
     ]
    }
   ],
   "source": [
    "board_size = 6\n",
    "tab  = [[0 for _ in range(board_size)] for _ in range(board_size)]\n",
    "tab = np.array(tab)\n",
    "\n",
    "tab[4][1] = 1\n",
    "tab[1][2] = 1\n",
    "tab[3][2] = 1\n",
    "tab[3][4] = 1\n",
    "tab[2][3] = 5\n",
    "tab[1][1] = 6\n",
    "# tab[1][2] = 1\n",
    "# tab[1][3] = 1\n",
    "# tab[2][3] = 1\n",
    "# tab[1][0] = 1\n",
    "# tab[2][0] = 1\n",
    "# tab[3][0] = 1\n",
    "\n",
    "print(tab)"
   ]
  },
  {
   "cell_type": "code",
   "execution_count": 52,
   "id": "72d38cde",
   "metadata": {},
   "outputs": [
    {
     "name": "stdout",
     "output_type": "stream",
     "text": [
      "[[0 0 0 0 0 0]\n",
      " [0 0 0 1 0 0]\n",
      " [0 0 5 0 0 0]\n",
      " [0 1 0 1 0 0]\n",
      " [0 6 0 0 1 0]\n",
      " [0 0 0 0 0 0]]\n",
      "[[0 0 0 0 0 0]\n",
      " [0 0 0 1 0 0]\n",
      " [0 0 7 0 0 0]\n",
      " [0 1 0 1 0 0]\n",
      " [0 6 0 0 1 0]\n",
      " [0 0 0 0 0 0]]\n"
     ]
    }
   ],
   "source": [
    "tb = np.rot90(tab, k = 1)\n",
    "print(tb)\n",
    "tb[2][2] = 7\n",
    "print(tb)"
   ]
  },
  {
   "cell_type": "code",
   "execution_count": 54,
   "id": "33db4940",
   "metadata": {},
   "outputs": [
    {
     "name": "stdout",
     "output_type": "stream",
     "text": [
      "/\n",
      "The autoreload extension is already loaded. To reload it, use:\n",
      "  %reload_ext autoreload\n",
      "Check double threes 1 0\n",
      "Check double threes 2 0\n",
      "i,i-j = 1 2 => 1\n",
      "i,i-j = 2 3 => 1\n",
      "i,i-j = 3 4 => 1\n",
      "i,i-j = 3 2 => 1\n",
      "i,i-j = 4 3 => 0\n",
      "i,i-j = 5 4 => 0\n",
      "i,i-j = 4 1 => 1\n",
      "i,i-j = 5 2 => 0\n",
      "Check double threes 3 1\n",
      "i,i-j = 1 3 => 1\n",
      "i,i-j = 2 4 => 0\n",
      "i,i-j = 3 5 => 0\n",
      "i,i-j = 2 2 => 1\n",
      "i,i-j = 3 3 => 1\n",
      "i,i-j = 4 4 => 1\n",
      "i,i-j = 3 1 => 1\n",
      "i,i-j = 4 2 => 0\n",
      "i,i-j = 5 3 => 0\n",
      "Check double threes 4 2\n"
     ]
    },
    {
     "data": {
      "text/plain": [
       "True"
      ]
     },
     "execution_count": 54,
     "metadata": {},
     "output_type": "execute_result"
    }
   ],
   "source": [
    "%cd ..\n",
    "from src.valid_move import check_threes\n",
    "%load_ext autoreload\n",
    "%autoreload 2\n",
    "\n",
    "check_threes(tab, 1, 2, 3)"
   ]
  }
 ],
 "metadata": {
  "kernelspec": {
   "display_name": "Python 3",
   "language": "python",
   "name": "python3"
  },
  "language_info": {
   "codemirror_mode": {
    "name": "ipython",
    "version": 3
   },
   "file_extension": ".py",
   "mimetype": "text/x-python",
   "name": "python",
   "nbconvert_exporter": "python",
   "pygments_lexer": "ipython3",
   "version": "3.10.17"
  }
 },
 "nbformat": 4,
 "nbformat_minor": 5
}

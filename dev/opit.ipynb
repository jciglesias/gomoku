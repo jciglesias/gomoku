{
 "cells": [
  {
   "cell_type": "code",
   "execution_count": 64,
   "id": "829991af",
   "metadata": {},
   "outputs": [],
   "source": [
    "import pandas as pd\n",
    "import numpy as np\n",
    "import time\n",
    "import streamlit as st\n",
    "import functools"
   ]
  },
  {
   "cell_type": "code",
   "execution_count": 14,
   "id": "76102b4f",
   "metadata": {},
   "outputs": [],
   "source": [
    "board_size = 19\n",
    "win_length = 5\n",
    "player = 1\n",
    "score = {1: 2, -1: 1}"
   ]
  },
  {
   "cell_type": "code",
   "execution_count": 3,
   "id": "0a0e73c7",
   "metadata": {},
   "outputs": [],
   "source": [
    "tab  = [[0 for _ in range(board_size)] for _ in range(board_size)]"
   ]
  },
  {
   "cell_type": "code",
   "execution_count": 70,
   "id": "02d79de7",
   "metadata": {},
   "outputs": [
    {
     "name": "stdout",
     "output_type": "stream",
     "text": [
      "/\n",
      "The autoreload extension is already loaded. To reload it, use:\n",
      "  %reload_ext autoreload\n"
     ]
    }
   ],
   "source": [
    "%cd ..\n",
    "from src.heuristic import heuristic\n",
    "%load_ext autoreload\n",
    "%autoreload 2"
   ]
  },
  {
   "cell_type": "code",
   "execution_count": 11,
   "id": "8027b0f8",
   "metadata": {},
   "outputs": [
    {
     "name": "stdout",
     "output_type": "stream",
     "text": [
      "[[-1 -1  0 -1  0  0 -1  0  1  1  0  0  1 -1 -1 -1  0  1  1]\n",
      " [-1  1  1  0 -1  1 -1  0  0 -1  0 -1 -1  0  0 -1  1  1  1]\n",
      " [-1  0  1 -1  0  1 -1  1  0 -1  1  1  0  0  1 -1  1  1  1]\n",
      " [-1  0 -1 -1 -1 -1  0 -1  0 -1  0  1  0 -1 -1  0 -1  0 -1]\n",
      " [ 1  1  0 -1 -1  0  1  1  1 -1  1  1  0  0  0  0  1  1  0]\n",
      " [-1 -1  1  1 -1  0  1  0  0  1  1  1  1  1 -1  0  1  1 -1]\n",
      " [ 0  0  0  1  0  0  1  1 -1  1  0  1  0 -1  1 -1  0  1 -1]\n",
      " [ 1 -1  1 -1  0  1  0  0  0  0  0  0  0  0  0  1  1 -1 -1]\n",
      " [-1 -1 -1 -1  1  0  1  0  0  1 -1  1  0 -1  1  1  1  1  0]\n",
      " [ 1 -1  1 -1  1 -1  0  1 -1  0  1 -1 -1  0 -1  1  1  1  0]\n",
      " [ 0  0 -1  0  0 -1  0  0  1  1  0 -1 -1 -1 -1  0  1  1  1]\n",
      " [-1 -1  1  1  0  1 -1  0  1  0 -1  0  0  1 -1 -1 -1  0  0]\n",
      " [ 1  0  1 -1  1  0 -1 -1  1  1  1  1 -1  1  1 -1  1  1 -1]\n",
      " [ 1  0  0 -1  0  1  1  0  0  1  0  0 -1 -1  0  1 -1  0 -1]\n",
      " [ 0 -1 -1  1  1  0 -1 -1  1  0 -1 -1  0  0  0  0  0  1  0]\n",
      " [-1  1  1 -1  0  1 -1  1 -1  0  1  0  1  0  1  1  1  0  1]\n",
      " [ 1  0  1  1 -1  0  0  1  0  0  0  1 -1  0 -1  1  1  1  1]\n",
      " [-1  1 -1 -1 -1  1 -1 -1  0  1  0  1 -1  0  1 -1  1  0  1]\n",
      " [-1 -1  0 -1  0 -1 -1 -1  0  1  1 -1  0  1  0  1 -1  1  0]]\n"
     ]
    }
   ],
   "source": [
    "valeurs_possibles = [-1, 0, 1]\n",
    "\n",
    "# Générer 100 tableaux 19x19\n",
    "tableaux = [np.random.choice(valeurs_possibles, size=(19, 19)) for _ in range(100)]\n",
    "\n",
    "# Affichage d'un exemple de tableau\n",
    "print(tableaux[0])"
   ]
  },
  {
   "cell_type": "code",
   "execution_count": 85,
   "id": "b6f10ccd",
   "metadata": {},
   "outputs": [],
   "source": [
    "directions = [(-1, -1),\n",
    "            (-1, 0),\n",
    "            (-1, 1),\n",
    "            (0, -1),\n",
    "            (0, 1),\n",
    "            (1, -1),\n",
    "            (1, 0),\n",
    "            (1, 1)\n",
    "            ]"
   ]
  },
  {
   "cell_type": "code",
   "execution_count": 86,
   "id": "994f74c7",
   "metadata": {},
   "outputs": [],
   "source": [
    "def heuristic_row(board_size, win_len, tab, player, reward):\n",
    "    i = 0\n",
    "    result = 0\n",
    "    while i < board_size:\n",
    "        j = 0\n",
    "        while j <= board_size - 1:\n",
    "            if tab[j][i] == player:\n",
    "                open = 0\n",
    "                if j - 1 >= 0:\n",
    "                    if tab[j - 1][i] == 0:\n",
    "                        open = 1\n",
    "                k = 0\n",
    "                while k < win_len and j < board_size and tab[j][i] == player:\n",
    "                    k += 1\n",
    "                    j += 1\n",
    "                if j < board_size:\n",
    "                    if tab[j][i] == 0:\n",
    "                        open += 1\n",
    "                result += reward[open][k]\n",
    "            elif tab[j][i] == -player:\n",
    "                open = 0\n",
    "                if j - 1 >= 0:\n",
    "                    if tab[j - 1][i] == 0:\n",
    "                        open = 1\n",
    "                k = 0\n",
    "                while k < win_len and j < board_size and tab[j][i] == -player:\n",
    "                    k += 1\n",
    "                    j += 1\n",
    "                if j < board_size:\n",
    "                    if tab[j][i] == 0:\n",
    "                        open += 1\n",
    "                result -= reward[open][k] * 1.5\n",
    "            else:\n",
    "                j += 1\n",
    "        i += 1\n",
    "    return result\n",
    "\n",
    "def heuristic_diag(board_size, win_len, tab, player, reward):\n",
    "    result = 0\n",
    "    j =  1 - board_size\n",
    "    while j < board_size:\n",
    "        i = max(0, j)\n",
    "        while i < min(board_size, j + board_size):\n",
    "            if tab[i][i - j] == player:\n",
    "                    open = 0\n",
    "                    if i - 1 >= 0 and i - 1 - j >= 0:\n",
    "                        if tab[i - 1][i - 1 - j] == 0:\n",
    "                            open = 1\n",
    "                    k = 0\n",
    "                    while k < win_len and i < min(board_size, j + board_size) and tab[i][i - j] == player:\n",
    "                        k += 1\n",
    "                        i += 1\n",
    "                    if i < board_size and i - j < board_size:\n",
    "                        if tab[i][i - j] == 0:\n",
    "                            open += 1\n",
    "                    result += reward[open][k]\n",
    "            elif tab[i][i - j] == -player:\n",
    "                    open = 0\n",
    "                    if i - 1 >= 0 and i - 1 - j >= 0:\n",
    "                        if tab[i - 1][i - 1 - j] == 0:\n",
    "                            open = 1\n",
    "                    k = 0\n",
    "                    while k < win_len and i < min(board_size, j + board_size) and tab[i][i - j] == -player:\n",
    "                        k += 1\n",
    "                        i += 1\n",
    "                    if i < board_size and i - j < board_size:\n",
    "                        if tab[i][i - j] == 0:\n",
    "                            open += 1\n",
    "                    result -= reward[open][k] * 1.5\n",
    "            else:\n",
    "                i += 1\n",
    "        j += 1\n",
    "    return result\n",
    "\n",
    "def check_alignement_capture(board, row, col, player):\n",
    "    for dr, dc in directions:\n",
    "        r, c = row + dr, col + dc\n",
    "        if 0 <= r < len(board) and 0 <= c < len(board):\n",
    "            if board[r][c] == -player:  # Found an opponent piece\n",
    "                # search in the same direction for another opponent piece\n",
    "                r2, c2 = r + dr, c + dc\n",
    "                if 0 <= r2 < len(board) and 0 <= c2 < len(board):\n",
    "                    if board[r2][c2] == -player:\n",
    "                        # check if the next cell in the same direction is player's piece\n",
    "                        r3, c3 = r2 + dr, c2 + dc\n",
    "                        if 0 <= r3 < len(board) and 0 <= c3 < len(board):\n",
    "                            if board[r3][c3] == player:\n",
    "                                return True\n",
    "    return False\n",
    "\n",
    "def heuristic_capture(tab, player, row, col, g_score, reward_capture):\n",
    "    res = 0\n",
    "    if check_alignement_capture(tab, row, col, player):\n",
    "        res += reward_capture[g_score[player]]\n",
    "    if check_alignement_capture(tab, row, col, -player):\n",
    "        res -= reward_capture[g_score[-player]] + 1\n",
    "    return res\n",
    "\n",
    "def get_reward(win_len):\n",
    "    reward_closed = [0] * (win_len + 1)\n",
    "    reward_open1 = [0] + [0] + [10**i for i in range(-2, win_len, 2)]\n",
    "    reward_open2 = [0] + [0] + [10**i for i in range(-1, win_len + 1, 2)]\n",
    "    reward_closed[win_len] = 10**(win_len)\n",
    "    reward_open1[win_len] = 10**(win_len)\n",
    "    reward = [reward_closed, reward_open1, reward_open2]\n",
    "    reward_capture = [10 + (i+1) for i in range(5)]\n",
    "    reward_capture[4] = 10**(win_len)\n",
    "    return reward, reward_capture\n",
    "\n",
    "def heuristic_test(board_size, win_len, tab, player, row, col, g_score):\n",
    "    reward, reward_capture = get_reward(win_len)\n",
    "    tab = np.array(tab)\n",
    "    res = heuristic_capture(tab, player, row, col, g_score, reward_capture)\n",
    "    res += heuristic_row(board_size, win_len, tab, player, reward)\n",
    "    res += heuristic_row(board_size, win_len, tab, player, reward)\n",
    "    res += heuristic_diag(board_size, win_len, tab, player, reward)\n",
    "    res += heuristic_diag(board_size, win_len, tab, player, reward)\n",
    "    return res"
   ]
  },
  {
   "cell_type": "code",
   "execution_count": 1,
   "id": "5f63f0ce",
   "metadata": {},
   "outputs": [
    {
     "ename": "NameError",
     "evalue": "name 'np' is not defined",
     "output_type": "error",
     "traceback": [
      "\u001b[0;31m---------------------------------------------------------------------------\u001b[0m",
      "\u001b[0;31mNameError\u001b[0m                                 Traceback (most recent call last)",
      "Cell \u001b[0;32mIn[1], line 1\u001b[0m\n\u001b[0;32m----> 1\u001b[0m tableaux \u001b[38;5;241m=\u001b[39m [np\u001b[38;5;241m.\u001b[39mrandom\u001b[38;5;241m.\u001b[39mchoice(valeurs_possibles, size\u001b[38;5;241m=\u001b[39m(\u001b[38;5;241m19\u001b[39m, \u001b[38;5;241m19\u001b[39m)) \u001b[38;5;28;01mfor\u001b[39;00m _ \u001b[38;5;129;01min\u001b[39;00m \u001b[38;5;28mrange\u001b[39m(\u001b[38;5;241m1000\u001b[39m)]\n\u001b[1;32m      2\u001b[0m start \u001b[38;5;241m=\u001b[39m time\u001b[38;5;241m.\u001b[39mtime()\n\u001b[1;32m      3\u001b[0m \u001b[38;5;28mprint\u001b[39m(\u001b[38;5;124m\"\u001b[39m\u001b[38;5;124mStart\u001b[39m\u001b[38;5;124m\"\u001b[39m)\n",
      "Cell \u001b[0;32mIn[1], line 1\u001b[0m, in \u001b[0;36m<listcomp>\u001b[0;34m(.0)\u001b[0m\n\u001b[0;32m----> 1\u001b[0m tableaux \u001b[38;5;241m=\u001b[39m [\u001b[43mnp\u001b[49m\u001b[38;5;241m.\u001b[39mrandom\u001b[38;5;241m.\u001b[39mchoice(valeurs_possibles, size\u001b[38;5;241m=\u001b[39m(\u001b[38;5;241m19\u001b[39m, \u001b[38;5;241m19\u001b[39m)) \u001b[38;5;28;01mfor\u001b[39;00m _ \u001b[38;5;129;01min\u001b[39;00m \u001b[38;5;28mrange\u001b[39m(\u001b[38;5;241m1000\u001b[39m)]\n\u001b[1;32m      2\u001b[0m start \u001b[38;5;241m=\u001b[39m time\u001b[38;5;241m.\u001b[39mtime()\n\u001b[1;32m      3\u001b[0m \u001b[38;5;28mprint\u001b[39m(\u001b[38;5;124m\"\u001b[39m\u001b[38;5;124mStart\u001b[39m\u001b[38;5;124m\"\u001b[39m)\n",
      "\u001b[0;31mNameError\u001b[0m: name 'np' is not defined"
     ]
    }
   ],
   "source": [
    "tableaux = [np.random.choice(valeurs_possibles, size=(19, 19)) for _ in range(1000)]\n",
    "start = time.time()\n",
    "print(\"Start\")\n",
    "for i in range(1000):\n",
    "    res = heuristic_test(board_size, win_length, tableaux[i], player, 2, 2, score)\n",
    "end = time.time()\n",
    "elapsed = end -start\n",
    "print(f\"End = {elapsed:.2}ms\")"
   ]
  },
  {
   "cell_type": "markdown",
   "id": "bdc172d5",
   "metadata": {},
   "source": [
    "init : End = 0.78ms\n",
    "\n",
    "cache :"
   ]
  }
 ],
 "metadata": {
  "kernelspec": {
   "display_name": "Python 3",
   "language": "python",
   "name": "python3"
  },
  "language_info": {
   "codemirror_mode": {
    "name": "ipython",
    "version": 3
   },
   "file_extension": ".py",
   "mimetype": "text/x-python",
   "name": "python",
   "nbconvert_exporter": "python",
   "pygments_lexer": "ipython3",
   "version": "3.10.17"
  }
 },
 "nbformat": 4,
 "nbformat_minor": 5
}

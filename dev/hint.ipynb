{
 "cells": [
  {
   "cell_type": "code",
   "execution_count": 4,
   "id": "e24aace5",
   "metadata": {},
   "outputs": [],
   "source": [
    "import pandas as pd\n",
    "import numpy as np\n",
    "import time\n",
    "import streamlit as st\n",
    "import functools"
   ]
  },
  {
   "cell_type": "code",
   "execution_count": 7,
   "id": "8b8472cc",
   "metadata": {},
   "outputs": [],
   "source": [
    "win_len = 5\n",
    "player = 1\n",
    "score = {1: 0, -1: 0}\n",
    "valeurs_possibles = [-1, 0, 1]"
   ]
  },
  {
   "cell_type": "code",
   "execution_count": 13,
   "id": "ab75567a",
   "metadata": {},
   "outputs": [
    {
     "name": "stdout",
     "output_type": "stream",
     "text": [
      "[[0 0 0 0 0 0 0 0]\n",
      " [0 0 0 0 0 0 0 0]\n",
      " [0 0 1 1 1 0 0 0]\n",
      " [0 0 0 0 0 0 0 0]\n",
      " [0 0 0 0 0 0 0 0]\n",
      " [0 0 0 0 0 0 0 0]\n",
      " [0 0 0 0 0 0 0 0]\n",
      " [0 0 0 0 0 0 0 0]]\n"
     ]
    }
   ],
   "source": [
    "board_size = 8\n",
    "tab  = [[0 for _ in range(board_size)] for _ in range(board_size)]\n",
    "tab = np.array(tab)\n",
    "\n",
    "tab[2][2] = 1\n",
    "tab[2][3] = 1\n",
    "tab[2][4] = 1\n",
    "# tab[5][1] = -1\n",
    "print(tab)"
   ]
  },
  {
   "cell_type": "code",
   "execution_count": null,
   "id": "0dd28ee7",
   "metadata": {},
   "outputs": [
    {
     "ename": "KeyboardInterrupt",
     "evalue": "",
     "output_type": "error",
     "traceback": [
      "\u001b[0;31m---------------------------------------------------------------------------\u001b[0m",
      "\u001b[0;31mKeyboardInterrupt\u001b[0m                         Traceback (most recent call last)",
      "Cell \u001b[0;32mIn[19], line 6\u001b[0m\n\u001b[1;32m      4\u001b[0m i \u001b[38;5;241m=\u001b[39m \u001b[38;5;241m0\u001b[39m\n\u001b[1;32m      5\u001b[0m \u001b[38;5;28;01mwhile\u001b[39;00m i \u001b[38;5;241m<\u001b[39m board_size:\n\u001b[0;32m----> 6\u001b[0m     \u001b[38;5;28;01mif\u001b[39;00m tab[i][j] \u001b[38;5;241m==\u001b[39m player:\n\u001b[1;32m      7\u001b[0m         k \u001b[38;5;241m=\u001b[39m \u001b[38;5;241m0\u001b[39m\n\u001b[1;32m      8\u001b[0m         pieces \u001b[38;5;241m=\u001b[39m []\n",
      "\u001b[0;31mKeyboardInterrupt\u001b[0m: "
     ]
    }
   ],
   "source": [
    "j = 0\n",
    "result = []\n",
    "while j < board_size:\n",
    "    i = 0\n",
    "    while i < board_size:\n",
    "        cell_value = tab[i][j]\n",
    "        if cell_value == player:\n",
    "            k = 0\n",
    "            pieces = []\n",
    "            while k < win_len and i < board_size and tab[i][j] == player:\n",
    "                k += 1\n",
    "                i += 1\n",
    "                print(i, j)\n",
    "                pieces.append([i, j])\n",
    "            print(pieces)\n",
    "            if k > 3:\n",
    "                result.append(pieces)\n",
    "        else:\n",
    "            i += 1\n",
    "    j += 1\n",
    "\n",
    "print(result)"
   ]
  }
 ],
 "metadata": {
  "kernelspec": {
   "display_name": "Python 3",
   "language": "python",
   "name": "python3"
  },
  "language_info": {
   "codemirror_mode": {
    "name": "ipython",
    "version": 3
   },
   "file_extension": ".py",
   "mimetype": "text/x-python",
   "name": "python",
   "nbconvert_exporter": "python",
   "pygments_lexer": "ipython3",
   "version": "3.10.17"
  }
 },
 "nbformat": 4,
 "nbformat_minor": 5
}

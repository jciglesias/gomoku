{
 "cells": [
  {
   "cell_type": "code",
   "execution_count": 1,
   "id": "e24aace5",
   "metadata": {},
   "outputs": [],
   "source": [
    "import pandas as pd\n",
    "import numpy as np\n",
    "import time\n",
    "import streamlit as st\n",
    "import functools"
   ]
  },
  {
   "cell_type": "code",
   "execution_count": 2,
   "id": "8b8472cc",
   "metadata": {},
   "outputs": [],
   "source": [
    "win_len = 5\n",
    "player = 1\n",
    "score = {1: 0, -1: 0}\n",
    "valeurs_possibles = [-1, 0, 1]"
   ]
  },
  {
   "cell_type": "code",
   "execution_count": 3,
   "id": "ab75567a",
   "metadata": {},
   "outputs": [
    {
     "name": "stdout",
     "output_type": "stream",
     "text": [
      "[[ 0  0  0  0  0  0  0  0]\n",
      " [ 0  0  1  0  0  0  0  0]\n",
      " [ 0  0  1  1  1  0  0  0]\n",
      " [ 0  0  1  0  0  1  0  0]\n",
      " [ 0  0  0  0  1  0  0  0]\n",
      " [ 0 -1  0  1  0  0  0  0]\n",
      " [ 0  0  0  0  1  0  0  0]\n",
      " [ 0  0  0  0  0  1  0  0]]\n"
     ]
    }
   ],
   "source": [
    "board_size = 8\n",
    "tab  = [[0 for _ in range(board_size)] for _ in range(board_size)]\n",
    "tab = np.array(tab)\n",
    "\n",
    "tab[1][2] = 1\n",
    "tab[2][2] = 1\n",
    "tab[2][3] = 1\n",
    "tab[2][4] = 1\n",
    "tab[3][2] = 1\n",
    "tab[5][1] = -1\n",
    "tab[5][3] = 1\n",
    "tab[6][4] = 1\n",
    "tab[7][5] = 1\n",
    "tab[3][5] = 1\n",
    "tab[4][4] = 1\n",
    "tab[5][3] = 1\n",
    "print(tab)"
   ]
  },
  {
   "cell_type": "code",
   "execution_count": 6,
   "id": "dd0be410",
   "metadata": {},
   "outputs": [
    {
     "name": "stdout",
     "output_type": "stream",
     "text": [
      "c:\\Users\\alban\\Documents\n",
      "The autoreload extension is already loaded. To reload it, use:\n",
      "  %reload_ext autoreload\n",
      "[(4, 4), (2, 4), (1, 2), (7, 5), (6, 4), (2, 3), (2, 2), (5, 3), (3, 2), (3, 5)]\n"
     ]
    }
   ],
   "source": [
    "%cd ..\n",
    "from src.hint import check_alignements\n",
    "%load_ext autoreload\n",
    "%autoreload 2\n",
    "\n",
    "liste_initiale = check_alignements(board_size, win_len, tab, player)\n",
    "print(liste_initiale)"
   ]
  }
 ],
 "metadata": {
  "kernelspec": {
   "display_name": ".venv",
   "language": "python",
   "name": "python3"
  },
  "language_info": {
   "codemirror_mode": {
    "name": "ipython",
    "version": 3
   },
   "file_extension": ".py",
   "mimetype": "text/x-python",
   "name": "python",
   "nbconvert_exporter": "python",
   "pygments_lexer": "ipython3",
   "version": "3.12.10"
  }
 },
 "nbformat": 4,
 "nbformat_minor": 5
}

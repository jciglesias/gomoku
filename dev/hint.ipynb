{
 "cells": [
  {
   "cell_type": "code",
   "execution_count": 1,
   "id": "e24aace5",
   "metadata": {},
   "outputs": [],
   "source": [
    "import pandas as pd\n",
    "import numpy as np\n",
    "import time\n",
    "import streamlit as st\n",
    "import functools"
   ]
  },
  {
   "cell_type": "code",
   "execution_count": 2,
   "id": "8b8472cc",
   "metadata": {},
   "outputs": [],
   "source": [
    "win_len = 5\n",
    "player = 1\n",
    "score = {1: 0, -1: 0}\n",
    "valeurs_possibles = [-1, 0, 1]"
   ]
  },
  {
   "cell_type": "code",
   "execution_count": 15,
   "id": "ab75567a",
   "metadata": {},
   "outputs": [
    {
     "name": "stdout",
     "output_type": "stream",
     "text": [
      "[[0 0 0 0 0 0 0 0]\n",
      " [0 0 1 0 0 0 0 0]\n",
      " [0 0 1 0 0 0 0 0]\n",
      " [0 0 1 1 0 0 0 0]\n",
      " [0 0 0 0 1 0 0 0]\n",
      " [0 0 0 0 0 0 0 0]\n",
      " [0 0 0 0 0 0 0 0]\n",
      " [0 0 0 0 0 0 0 0]]\n"
     ]
    }
   ],
   "source": [
    "board_size = 8\n",
    "tab  = [[0 for _ in range(board_size)] for _ in range(board_size)]\n",
    "tab = np.array(tab)\n",
    "\n",
    "tab[1][2] = 1\n",
    "tab[2][2] = 1\n",
    "tab[3][2] = 1\n",
    "tab[3][3] = 1\n",
    "tab[4][4] = 1\n",
    "# tab[5][1] = -1\n",
    "print(tab)"
   ]
  },
  {
   "cell_type": "code",
   "execution_count": 28,
   "id": "dd0be410",
   "metadata": {},
   "outputs": [
    {
     "name": "stdout",
     "output_type": "stream",
     "text": [
      "/\n",
      "The autoreload extension is already loaded. To reload it, use:\n",
      "  %reload_ext autoreload\n",
      "[1]\n",
      "[1, 1]\n",
      "[1, 1, [[(2, 0), (3, 0), (4, 0)]]]\n",
      "[1, 1, [[(2, 0), (3, 0), (4, 0)]], []]\n",
      "[1, 1, [[(2, 0), (3, 0), (4, 0)]], []]\n"
     ]
    }
   ],
   "source": [
    "%cd ..\n",
    "from src.hint import check_alignements\n",
    "%load_ext autoreload\n",
    "%autoreload 2\n",
    "\n",
    "res = check_alignements(board_size, win_len, tab, player)\n",
    "print(res)"
   ]
  }
 ],
 "metadata": {
  "kernelspec": {
   "display_name": "Python 3",
   "language": "python",
   "name": "python3"
  },
  "language_info": {
   "codemirror_mode": {
    "name": "ipython",
    "version": 3
   },
   "file_extension": ".py",
   "mimetype": "text/x-python",
   "name": "python",
   "nbconvert_exporter": "python",
   "pygments_lexer": "ipython3",
   "version": "3.10.17"
  }
 },
 "nbformat": 4,
 "nbformat_minor": 5
}

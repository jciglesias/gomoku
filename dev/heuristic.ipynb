{
 "cells": [
  {
   "cell_type": "code",
   "execution_count": 22,
   "id": "bad5c8eb",
   "metadata": {},
   "outputs": [],
   "source": [
    "import pandas as pd\n",
    "import numpy as np\n",
    "import time"
   ]
  },
  {
   "cell_type": "code",
   "execution_count": 89,
   "id": "a0a3d12c",
   "metadata": {},
   "outputs": [],
   "source": [
    "board_size_init = 19\n",
    "win_len_init = 5\n",
    "tab_init = pd.DataFrame(0, index=range(19), columns=range(19))"
   ]
  },
  {
   "cell_type": "code",
   "execution_count": 37,
   "id": "76e572cb",
   "metadata": {},
   "outputs": [
    {
     "data": {
      "text/plain": [
       "np.float64(nan)"
      ]
     },
     "execution_count": 37,
     "metadata": {},
     "output_type": "execute_result"
    }
   ],
   "source": [
    "tab_init[2][2]"
   ]
  },
  {
   "cell_type": "code",
   "execution_count": 90,
   "id": "ea5ad362",
   "metadata": {},
   "outputs": [],
   "source": [
    "def check_direction(board_size, win_len, tab, player, row, col, delta_row, delta_col):\n",
    "    count = 0\n",
    "    for k in range(win_len):\n",
    "        r = row + k * delta_row\n",
    "        c = col + k * delta_col\n",
    "        if 0 <= r < board_size and 0 <= c < board_size and tab[r][c] == tab[row][col] and tab[r][c] == player:\n",
    "            count += 1\n",
    "        else:\n",
    "            break\n",
    "    return count == win_len"
   ]
  },
  {
   "cell_type": "code",
   "execution_count": 91,
   "id": "11fef65e",
   "metadata": {},
   "outputs": [],
   "source": [
    "def basic_heuristic(board_size, win_len, tab, player):\n",
    "    for i in range(board_size):\n",
    "        for j in range(board_size):\n",
    "            if tab[i][j] is not np.nan:\n",
    "                if check_direction(board_size, win_len, tab, player, i, j, 1, 0):\n",
    "                    return 1000\n",
    "    return 0            "
   ]
  },
  {
   "cell_type": "code",
   "execution_count": 92,
   "id": "058187a2",
   "metadata": {},
   "outputs": [
    {
     "name": "stdout",
     "output_type": "stream",
     "text": [
      "0\n"
     ]
    }
   ],
   "source": [
    "result = basic_heuristic(19, 5, tab_init, 1)\n",
    "print(result)"
   ]
  },
  {
   "cell_type": "code",
   "execution_count": 94,
   "id": "f4260d48",
   "metadata": {},
   "outputs": [],
   "source": [
    "def heuristic(board_size, win_len, tab, player):\n",
    "    start = time.perf_counter()\n",
    "    for i in range(board_size):\n",
    "        for j in range(board_size):\n",
    "            if tab[i][j] != 0:\n",
    "                if check_direction(board_size, win_len, tab, player, i, j, 1, 0) or \\\n",
    "                    check_direction(board_size, win_len, tab, player, i, j, 0, 1) or \\\n",
    "                    check_direction(board_size, win_len, tab, player, i, j, 1, 1) or \\\n",
    "                    check_direction(board_size, win_len, tab, player, i, j, 1, -1):\n",
    "                    return 1000\n",
    "    result = 0\n",
    "    if win_len > 1:\n",
    "        for i in range(board_size):\n",
    "            for j in range(board_size):\n",
    "                if tab[i][j] != 0:\n",
    "                    if check_direction(board_size, win_len - 1, tab, player, i, j, 1, 0) or \\\n",
    "                        check_direction(board_size, win_len - 1, tab, player, i, j, 0, 1) or \\\n",
    "                        check_direction(board_size, win_len - 1, tab, player, i, j, 1, 1) or \\\n",
    "                        check_direction(board_size, win_len - 1, tab, player, i, j, 1, -1):\n",
    "                        result += 20\n",
    "    if win_len > 2:\n",
    "        for i in range(board_size):\n",
    "            for j in range(board_size):\n",
    "                if tab[i][j] != 0:\n",
    "                    if check_direction(board_size, win_len - 2, tab, player, i, j, 1, 0) or \\\n",
    "                        check_direction(board_size, win_len - 2, tab, player, i, j, 0, 1) or \\\n",
    "                        check_direction(board_size, win_len - 2, tab, player, i, j, 1, 1) or \\\n",
    "                        check_direction(board_size, win_len - 2, tab, player, i, j, 1, -1):\n",
    "                        result += 10\n",
    "    if win_len > 3:\n",
    "        for i in range(board_size):\n",
    "            for j in range(board_size):\n",
    "                if tab[i][j] != 0:\n",
    "                    if check_direction(board_size, win_len - 3, tab, player, i, j, 1, 0) or \\\n",
    "                        check_direction(board_size, win_len - 3, tab, player, i, j, 0, 1) or \\\n",
    "                        check_direction(board_size, win_len - 3, tab, player, i, j, 1, 1) or \\\n",
    "                        check_direction(board_size, win_len - 3, tab, player, i, j, 1, -1):\n",
    "                        result += 1\n",
    "    end = time.perf_counter()\n",
    "    print(f\"Heuristic in {(end - start)*1000:0.4f} milliseconds\")\n",
    "    return result  "
   ]
  },
  {
   "cell_type": "code",
   "execution_count": 95,
   "id": "d881d865",
   "metadata": {},
   "outputs": [
    {
     "name": "stdout",
     "output_type": "stream",
     "text": [
      "Heuristic in 2.6659 milliseconds\n",
      "0\n"
     ]
    }
   ],
   "source": [
    "result = heuristic(19, 5, tab_init, 1)\n",
    "print(result)"
   ]
  },
  {
   "cell_type": "code",
   "execution_count": 96,
   "id": "23e9e644",
   "metadata": {},
   "outputs": [
    {
     "name": "stdout",
     "output_type": "stream",
     "text": [
      "   0  1  2  3  4\n",
      "0  1  1  1  1  1\n",
      "1  0  0  0  0  0\n",
      "2  0  0  0  0  0\n",
      "3  0  0  0  0  0\n",
      "4  0  0  0  0  0\n"
     ]
    }
   ],
   "source": [
    "tab = pd.DataFrame(0, index=range(5), columns=range(5))\n",
    "#tab = [[np.nan for _ in range(19)] for _ in range(19)]\n",
    "tab.loc[0, 0] = 1\n",
    "tab.loc[0, 1] = 1\n",
    "tab.loc[0, 2] = 1\n",
    "tab.loc[0, 3] = 1\n",
    "tab.loc[0, 4] = 1\n",
    "tab.loc[1, 0] = 0\n",
    "tab.loc[1, 1] = 0\n",
    "tab.loc[1, 2] = 0\n",
    "tab.loc[1, 3] = 0\n",
    "tab.loc[1, 4] = 0\n",
    "print(tab)"
   ]
  },
  {
   "cell_type": "code",
   "execution_count": 97,
   "id": "ccae2cdd",
   "metadata": {},
   "outputs": [
    {
     "name": "stdout",
     "output_type": "stream",
     "text": [
      "1000\n"
     ]
    }
   ],
   "source": [
    "result = heuristic(19, 5, tab, 1)\n",
    "print(result)"
   ]
  },
  {
   "cell_type": "code",
   "execution_count": 98,
   "id": "18bc47d1",
   "metadata": {},
   "outputs": [
    {
     "name": "stdout",
     "output_type": "stream",
     "text": [
      "     0    1    2    3    4\n",
      "0  NaN  1.0  1.0  1.0  0.0\n",
      "1  0.0  0.0  0.0  0.0  0.0\n",
      "2  NaN  NaN  NaN  NaN  NaN\n",
      "3  NaN  NaN  NaN  NaN  NaN\n",
      "4  NaN  NaN  NaN  NaN  NaN\n",
      "0.0\n"
     ]
    }
   ],
   "source": [
    "tab = pd.DataFrame(np.nan, index=range(5), columns=range(5))\n",
    "#tab = [[np.nan for _ in range(19)] for _ in range(19)]\n",
    "tab.loc[0, 1] = 1\n",
    "tab.loc[0, 2] = 1\n",
    "tab.loc[0, 3] = 1\n",
    "tab.loc[0, 4] = 0\n",
    "tab.loc[1, 0] = 0\n",
    "tab.loc[1, 1] = 0\n",
    "tab.loc[1, 2] = 0\n",
    "tab.loc[1, 3] = 0\n",
    "tab.loc[1, 4] = 0\n",
    "print(tab)\n",
    "print(tab[0][1])"
   ]
  },
  {
   "cell_type": "code",
   "execution_count": null,
   "id": "641e2e9a",
   "metadata": {},
   "outputs": [
    {
     "name": "stdout",
     "output_type": "stream",
     "text": [
      "1.0\n",
      "1.0\n",
      "1.0\n",
      "1.0\n",
      "1.0\n"
     ]
    },
    {
     "ename": "KeyError",
     "evalue": "5",
     "output_type": "error",
     "traceback": [
      "\u001b[0;31m---------------------------------------------------------------------------\u001b[0m",
      "\u001b[0;31mValueError\u001b[0m                                Traceback (most recent call last)",
      "File \u001b[0;32m~/.local/lib/python3.10/site-packages/pandas/core/indexes/range.py:413\u001b[0m, in \u001b[0;36mRangeIndex.get_loc\u001b[0;34m(self, key)\u001b[0m\n\u001b[1;32m    412\u001b[0m \u001b[38;5;28;01mtry\u001b[39;00m:\n\u001b[0;32m--> 413\u001b[0m     \u001b[38;5;28;01mreturn\u001b[39;00m \u001b[38;5;28;43mself\u001b[39;49m\u001b[38;5;241;43m.\u001b[39;49m\u001b[43m_range\u001b[49m\u001b[38;5;241;43m.\u001b[39;49m\u001b[43mindex\u001b[49m\u001b[43m(\u001b[49m\u001b[43mnew_key\u001b[49m\u001b[43m)\u001b[49m\n\u001b[1;32m    414\u001b[0m \u001b[38;5;28;01mexcept\u001b[39;00m \u001b[38;5;167;01mValueError\u001b[39;00m \u001b[38;5;28;01mas\u001b[39;00m err:\n",
      "\u001b[0;31mValueError\u001b[0m: 5 is not in range",
      "\nThe above exception was the direct cause of the following exception:\n",
      "\u001b[0;31mKeyError\u001b[0m                                  Traceback (most recent call last)",
      "Cell \u001b[0;32mIn[85], line 3\u001b[0m\n\u001b[1;32m      1\u001b[0m result \u001b[38;5;241m=\u001b[39m \u001b[38;5;241m0\u001b[39m\n\u001b[1;32m      2\u001b[0m \u001b[38;5;28;01mfor\u001b[39;00m j \u001b[38;5;129;01min\u001b[39;00m \u001b[38;5;28mrange\u001b[39m(\u001b[38;5;241m19\u001b[39m):\n\u001b[0;32m----> 3\u001b[0m     \u001b[38;5;28mprint\u001b[39m(\u001b[43mtab\u001b[49m\u001b[43m[\u001b[49m\u001b[43mj\u001b[49m\u001b[43m]\u001b[49m[\u001b[38;5;241m0\u001b[39m])\n",
      "File \u001b[0;32m~/.local/lib/python3.10/site-packages/pandas/core/frame.py:4107\u001b[0m, in \u001b[0;36mDataFrame.__getitem__\u001b[0;34m(self, key)\u001b[0m\n\u001b[1;32m   4105\u001b[0m \u001b[38;5;28;01mif\u001b[39;00m \u001b[38;5;28mself\u001b[39m\u001b[38;5;241m.\u001b[39mcolumns\u001b[38;5;241m.\u001b[39mnlevels \u001b[38;5;241m>\u001b[39m \u001b[38;5;241m1\u001b[39m:\n\u001b[1;32m   4106\u001b[0m     \u001b[38;5;28;01mreturn\u001b[39;00m \u001b[38;5;28mself\u001b[39m\u001b[38;5;241m.\u001b[39m_getitem_multilevel(key)\n\u001b[0;32m-> 4107\u001b[0m indexer \u001b[38;5;241m=\u001b[39m \u001b[38;5;28;43mself\u001b[39;49m\u001b[38;5;241;43m.\u001b[39;49m\u001b[43mcolumns\u001b[49m\u001b[38;5;241;43m.\u001b[39;49m\u001b[43mget_loc\u001b[49m\u001b[43m(\u001b[49m\u001b[43mkey\u001b[49m\u001b[43m)\u001b[49m\n\u001b[1;32m   4108\u001b[0m \u001b[38;5;28;01mif\u001b[39;00m is_integer(indexer):\n\u001b[1;32m   4109\u001b[0m     indexer \u001b[38;5;241m=\u001b[39m [indexer]\n",
      "File \u001b[0;32m~/.local/lib/python3.10/site-packages/pandas/core/indexes/range.py:415\u001b[0m, in \u001b[0;36mRangeIndex.get_loc\u001b[0;34m(self, key)\u001b[0m\n\u001b[1;32m    413\u001b[0m         \u001b[38;5;28;01mreturn\u001b[39;00m \u001b[38;5;28mself\u001b[39m\u001b[38;5;241m.\u001b[39m_range\u001b[38;5;241m.\u001b[39mindex(new_key)\n\u001b[1;32m    414\u001b[0m     \u001b[38;5;28;01mexcept\u001b[39;00m \u001b[38;5;167;01mValueError\u001b[39;00m \u001b[38;5;28;01mas\u001b[39;00m err:\n\u001b[0;32m--> 415\u001b[0m         \u001b[38;5;28;01mraise\u001b[39;00m \u001b[38;5;167;01mKeyError\u001b[39;00m(key) \u001b[38;5;28;01mfrom\u001b[39;00m \u001b[38;5;21;01merr\u001b[39;00m\n\u001b[1;32m    416\u001b[0m \u001b[38;5;28;01mif\u001b[39;00m \u001b[38;5;28misinstance\u001b[39m(key, Hashable):\n\u001b[1;32m    417\u001b[0m     \u001b[38;5;28;01mraise\u001b[39;00m \u001b[38;5;167;01mKeyError\u001b[39;00m(key)\n",
      "\u001b[0;31mKeyError\u001b[0m: 5"
     ]
    }
   ],
   "source": [
    "result = 0\n",
    "i = 0\n",
    "for j in range(19):\n",
    "    if tab[j][i] == 1:\n",
    "        count = 1\n",
    "        open = 0\n",
    "        if tab[j][i] > 0\n"
   ]
  }
 ],
 "metadata": {
  "kernelspec": {
   "display_name": "Python 3",
   "language": "python",
   "name": "python3"
  },
  "language_info": {
   "codemirror_mode": {
    "name": "ipython",
    "version": 3
   },
   "file_extension": ".py",
   "mimetype": "text/x-python",
   "name": "python",
   "nbconvert_exporter": "python",
   "pygments_lexer": "ipython3",
   "version": "3.10.16"
  }
 },
 "nbformat": 4,
 "nbformat_minor": 5
}

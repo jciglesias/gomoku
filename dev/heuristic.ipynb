{
 "cells": [
  {
   "cell_type": "code",
   "execution_count": 22,
   "id": "bad5c8eb",
   "metadata": {},
   "outputs": [],
   "source": [
    "import pandas as pd\n",
    "import numpy as np\n",
    "import time"
   ]
  },
  {
   "cell_type": "code",
   "execution_count": 36,
   "id": "a0a3d12c",
   "metadata": {},
   "outputs": [],
   "source": [
    "board_size_init = 19\n",
    "win_len_init = 5\n",
    "tab_init = pd.DataFrame(np.nan, index=range(19), columns=range(19))"
   ]
  },
  {
   "cell_type": "code",
   "execution_count": 37,
   "id": "76e572cb",
   "metadata": {},
   "outputs": [
    {
     "data": {
      "text/plain": [
       "np.float64(nan)"
      ]
     },
     "execution_count": 37,
     "metadata": {},
     "output_type": "execute_result"
    }
   ],
   "source": [
    "tab_init[2][2]"
   ]
  },
  {
   "cell_type": "code",
   "execution_count": 70,
   "id": "ea5ad362",
   "metadata": {},
   "outputs": [],
   "source": [
    "def check_direction(board_size, win_len, tab, player, row, col, delta_row, delta_col):\n",
    "    count = 0\n",
    "    for k in range(win_len):\n",
    "        r = row + k * delta_row\n",
    "        c = col + k * delta_col\n",
    "        if 0 <= r < board_size and 0 <= c < board_size and tab[r][c] == tab[row][col] and tab[r][c] == player:\n",
    "            count += 1\n",
    "        else:\n",
    "            break\n",
    "    return count == win_len"
   ]
  },
  {
   "cell_type": "code",
   "execution_count": 71,
   "id": "11fef65e",
   "metadata": {},
   "outputs": [],
   "source": [
    "def basic_heuristic(board_size, win_len, tab, player):\n",
    "    for i in range(board_size):\n",
    "        for j in range(board_size):\n",
    "            if tab[i][j] is not np.nan:\n",
    "                if check_direction(board_size, win_len, tab, player, i, j, 1, 0):\n",
    "                    return 1000\n",
    "    return 0            "
   ]
  },
  {
   "cell_type": "code",
   "execution_count": 40,
   "id": "058187a2",
   "metadata": {},
   "outputs": [
    {
     "name": "stdout",
     "output_type": "stream",
     "text": [
      "0\n"
     ]
    }
   ],
   "source": [
    "result = basic_heuristic(19, 5, tab_init, 1)\n",
    "print(result)"
   ]
  },
  {
   "cell_type": "code",
   "execution_count": 77,
   "id": "f4260d48",
   "metadata": {},
   "outputs": [],
   "source": [
    "def heuristic(board_size, win_len, tab, player):\n",
    "    start = time.perf_counter()\n",
    "    for i in range(board_size):\n",
    "        for j in range(board_size):\n",
    "            if tab[i][j] is not np.nan:\n",
    "                if check_direction(board_size, win_len, tab, player, i, j, 1, 0) or \\\n",
    "                    check_direction(board_size, win_len, tab, player, i, j, 0, 1) or \\\n",
    "                    check_direction(board_size, win_len, tab, player, i, j, 1, 1) or \\\n",
    "                    check_direction(board_size, win_len, tab, player, i, j, 1, -1):\n",
    "                    return 1000\n",
    "    result = 0\n",
    "    if win_len > 1:\n",
    "        for i in range(board_size):\n",
    "            for j in range(board_size):\n",
    "                if tab[i][j] is not np.nan:\n",
    "                    if check_direction(board_size, win_len - 1, tab, player, i, j, 1, 0) or \\\n",
    "                        check_direction(board_size, win_len - 1, tab, player, i, j, 0, 1) or \\\n",
    "                        check_direction(board_size, win_len - 1, tab, player, i, j, 1, 1) or \\\n",
    "                        check_direction(board_size, win_len - 1, tab, player, i, j, 1, -1):\n",
    "                        result += 20\n",
    "    if win_len > 2:\n",
    "        for i in range(board_size):\n",
    "            for j in range(board_size):\n",
    "                if tab[i][j] is not np.nan:\n",
    "                    if check_direction(board_size, win_len - 2, tab, player, i, j, 1, 0) or \\\n",
    "                        check_direction(board_size, win_len - 2, tab, player, i, j, 0, 1) or \\\n",
    "                        check_direction(board_size, win_len - 2, tab, player, i, j, 1, 1) or \\\n",
    "                        check_direction(board_size, win_len - 2, tab, player, i, j, 1, -1):\n",
    "                        result += 10\n",
    "    if win_len > 3:\n",
    "        for i in range(board_size):\n",
    "            for j in range(board_size):\n",
    "                if tab[i][j] is not np.nan:\n",
    "                    if check_direction(board_size, win_len - 3, tab, player, i, j, 1, 0) or \\\n",
    "                        check_direction(board_size, win_len - 3, tab, player, i, j, 0, 1) or \\\n",
    "                        check_direction(board_size, win_len - 3, tab, player, i, j, 1, 1) or \\\n",
    "                        check_direction(board_size, win_len - 3, tab, player, i, j, 1, -1):\n",
    "                        result += 1\n",
    "    end = time.perf_counter()\n",
    "    print(f\"Heuristic in {(end - start)*1000:0.4f} milliseconds\")\n",
    "    return result  "
   ]
  },
  {
   "cell_type": "code",
   "execution_count": 43,
   "id": "d881d865",
   "metadata": {},
   "outputs": [
    {
     "name": "stdout",
     "output_type": "stream",
     "text": [
      "Heuristic in 27.1906 milliseconds\n",
      "0\n"
     ]
    }
   ],
   "source": [
    "result = heuristic(19, 5, tab_init, 1)\n",
    "print(result)"
   ]
  },
  {
   "cell_type": "code",
   "execution_count": 78,
   "id": "23e9e644",
   "metadata": {},
   "outputs": [
    {
     "name": "stdout",
     "output_type": "stream",
     "text": [
      "     0    1    2    3    4\n",
      "0  1.0  1.0  1.0  1.0  1.0\n",
      "1  0.0  0.0  0.0  0.0  0.0\n",
      "2  NaN  NaN  NaN  NaN  NaN\n",
      "3  NaN  NaN  NaN  NaN  NaN\n",
      "4  NaN  NaN  NaN  NaN  NaN\n"
     ]
    }
   ],
   "source": [
    "tab = pd.DataFrame(np.nan, index=range(5), columns=range(5))\n",
    "#tab = [[np.nan for _ in range(19)] for _ in range(19)]\n",
    "tab.loc[0, 0] = 1\n",
    "tab.loc[0, 1] = 1\n",
    "tab.loc[0, 2] = 1\n",
    "tab.loc[0, 3] = 1\n",
    "tab.loc[0, 4] = 1\n",
    "tab.loc[1, 0] = 0\n",
    "tab.loc[1, 1] = 0\n",
    "tab.loc[1, 2] = 0\n",
    "tab.loc[1, 3] = 0\n",
    "tab.loc[1, 4] = 0\n",
    "print(tab)"
   ]
  },
  {
   "cell_type": "code",
   "execution_count": 79,
   "id": "ccae2cdd",
   "metadata": {},
   "outputs": [
    {
     "name": "stdout",
     "output_type": "stream",
     "text": [
      "1000\n"
     ]
    }
   ],
   "source": [
    "result = heuristic(19, 5, tab, 1)\n",
    "print(result)"
   ]
  }
 ],
 "metadata": {
  "kernelspec": {
   "display_name": "Python 3",
   "language": "python",
   "name": "python3"
  },
  "language_info": {
   "codemirror_mode": {
    "name": "ipython",
    "version": 3
   },
   "file_extension": ".py",
   "mimetype": "text/x-python",
   "name": "python",
   "nbconvert_exporter": "python",
   "pygments_lexer": "ipython3",
   "version": "3.10.16"
  }
 },
 "nbformat": 4,
 "nbformat_minor": 5
}

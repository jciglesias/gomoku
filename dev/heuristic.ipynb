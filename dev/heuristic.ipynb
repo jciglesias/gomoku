{
 "cells": [
  {
   "cell_type": "code",
   "execution_count": 4,
   "id": "bad5c8eb",
   "metadata": {},
   "outputs": [],
   "source": [
    "import pandas as pd\n",
    "import numpy as np\n",
    "import time"
   ]
  },
  {
   "cell_type": "code",
   "execution_count": null,
   "id": "a0a3d12c",
   "metadata": {},
   "outputs": [],
   "source": [
    "board_size = 19\n",
    "win_len = 5\n",
    "tab_init = pd.DataFrame(0, index=range(19), columns=range(19))"
   ]
  },
  {
   "cell_type": "code",
   "execution_count": 37,
   "id": "76e572cb",
   "metadata": {},
   "outputs": [
    {
     "data": {
      "text/plain": [
       "np.float64(nan)"
      ]
     },
     "execution_count": 37,
     "metadata": {},
     "output_type": "execute_result"
    }
   ],
   "source": [
    "tab_init[2][2]"
   ]
  },
  {
   "cell_type": "code",
   "execution_count": 90,
   "id": "ea5ad362",
   "metadata": {},
   "outputs": [],
   "source": [
    "def check_direction(board_size, win_len, tab, player, row, col, delta_row, delta_col):\n",
    "    count = 0\n",
    "    for k in range(win_len):\n",
    "        r = row + k * delta_row\n",
    "        c = col + k * delta_col\n",
    "        if 0 <= r < board_size and 0 <= c < board_size and tab[r][c] == tab[row][col] and tab[r][c] == player:\n",
    "            count += 1\n",
    "        else:\n",
    "            break\n",
    "    return count == win_len"
   ]
  },
  {
   "cell_type": "code",
   "execution_count": 91,
   "id": "11fef65e",
   "metadata": {},
   "outputs": [],
   "source": [
    "def basic_heuristic(board_size, win_len, tab, player):\n",
    "    for i in range(board_size):\n",
    "        for j in range(board_size):\n",
    "            if tab[i][j] is not np.nan:\n",
    "                if check_direction(board_size, win_len, tab, player, i, j, 1, 0):\n",
    "                    return 1000\n",
    "    return 0            "
   ]
  },
  {
   "cell_type": "code",
   "execution_count": 92,
   "id": "058187a2",
   "metadata": {},
   "outputs": [
    {
     "name": "stdout",
     "output_type": "stream",
     "text": [
      "0\n"
     ]
    }
   ],
   "source": [
    "result = basic_heuristic(19, 5, tab_init, 1)\n",
    "print(result)"
   ]
  },
  {
   "cell_type": "code",
   "execution_count": 94,
   "id": "f4260d48",
   "metadata": {},
   "outputs": [],
   "source": [
    "def heuristic(board_size, win_len, tab, player):\n",
    "    start = time.perf_counter()\n",
    "    for i in range(board_size):\n",
    "        for j in range(board_size):\n",
    "            if tab[i][j] != 0:\n",
    "                if check_direction(board_size, win_len, tab, player, i, j, 1, 0) or \\\n",
    "                    check_direction(board_size, win_len, tab, player, i, j, 0, 1) or \\\n",
    "                    check_direction(board_size, win_len, tab, player, i, j, 1, 1) or \\\n",
    "                    check_direction(board_size, win_len, tab, player, i, j, 1, -1):\n",
    "                    return 1000\n",
    "    result = 0\n",
    "    if win_len > 1:\n",
    "        for i in range(board_size):\n",
    "            for j in range(board_size):\n",
    "                if tab[i][j] != 0:\n",
    "                    if check_direction(board_size, win_len - 1, tab, player, i, j, 1, 0) or \\\n",
    "                        check_direction(board_size, win_len - 1, tab, player, i, j, 0, 1) or \\\n",
    "                        check_direction(board_size, win_len - 1, tab, player, i, j, 1, 1) or \\\n",
    "                        check_direction(board_size, win_len - 1, tab, player, i, j, 1, -1):\n",
    "                        result += 20\n",
    "    if win_len > 2:\n",
    "        for i in range(board_size):\n",
    "            for j in range(board_size):\n",
    "                if tab[i][j] != 0:\n",
    "                    if check_direction(board_size, win_len - 2, tab, player, i, j, 1, 0) or \\\n",
    "                        check_direction(board_size, win_len - 2, tab, player, i, j, 0, 1) or \\\n",
    "                        check_direction(board_size, win_len - 2, tab, player, i, j, 1, 1) or \\\n",
    "                        check_direction(board_size, win_len - 2, tab, player, i, j, 1, -1):\n",
    "                        result += 10\n",
    "    if win_len > 3:\n",
    "        for i in range(board_size):\n",
    "            for j in range(board_size):\n",
    "                if tab[i][j] != 0:\n",
    "                    if check_direction(board_size, win_len - 3, tab, player, i, j, 1, 0) or \\\n",
    "                        check_direction(board_size, win_len - 3, tab, player, i, j, 0, 1) or \\\n",
    "                        check_direction(board_size, win_len - 3, tab, player, i, j, 1, 1) or \\\n",
    "                        check_direction(board_size, win_len - 3, tab, player, i, j, 1, -1):\n",
    "                        result += 1\n",
    "    end = time.perf_counter()\n",
    "    print(f\"Heuristic in {(end - start)*1000:0.4f} milliseconds\")\n",
    "    return result  "
   ]
  },
  {
   "cell_type": "code",
   "execution_count": 95,
   "id": "d881d865",
   "metadata": {},
   "outputs": [
    {
     "name": "stdout",
     "output_type": "stream",
     "text": [
      "Heuristic in 2.6659 milliseconds\n",
      "0\n"
     ]
    }
   ],
   "source": [
    "result = heuristic(19, 5, tab_init, 1)\n",
    "print(result)"
   ]
  },
  {
   "cell_type": "code",
   "execution_count": null,
   "id": "23e9e644",
   "metadata": {},
   "outputs": [
    {
     "name": "stdout",
     "output_type": "stream",
     "text": [
      "   0  1  2  3  4\n",
      "0  1  1  1  1  1\n",
      "1  0  0  0  0  0\n",
      "2  0  0  0  0  0\n",
      "3  0  0  0  0  0\n",
      "4  0  0  0  0  0\n"
     ]
    }
   ],
   "source": [
    "tab = pd.DataFrame(0, index=range(5), columns=range(5))\n",
    "#tab = [[np.nan for _ in range(19)] for _ in range(19)]\n",
    "tabtab[0, 0] = 1\n",
    "tab.loc[0, 1] = 1\n",
    "tab.loc[0, 2] = 1\n",
    "tab.loc[0, 3] = 1\n",
    "tab.loc[0, 4] = 1\n",
    "tab.loc[1, 0] = 0\n",
    "tab.loc[1, 1] = 0\n",
    "tab.loc[1, 2] = 0\n",
    "tab.loc[1, 3] = 0\n",
    "tab.loc[1, 4] = 0\n",
    "print(tab)"
   ]
  },
  {
   "cell_type": "code",
   "execution_count": 97,
   "id": "ccae2cdd",
   "metadata": {},
   "outputs": [
    {
     "name": "stdout",
     "output_type": "stream",
     "text": [
      "1000\n"
     ]
    }
   ],
   "source": [
    "result = heuristic(19, 5, tab, 1)\n",
    "print(result)"
   ]
  },
  {
   "cell_type": "code",
   "execution_count": 33,
   "id": "18bc47d1",
   "metadata": {},
   "outputs": [
    {
     "name": "stdout",
     "output_type": "stream",
     "text": [
      "   0  1  2  3  4\n",
      "0  7  0  1  0 -1\n",
      "1  1 -1  1  0  0\n",
      "2  1  0  0  1  0\n",
      "3  1  0  0  0  0\n",
      "4  0  1  0  0  0\n"
     ]
    }
   ],
   "source": [
    "tab = pd.DataFrame(0, index=range(5), columns=range(5))\n",
    "#tab = [[np.nan for _ in range(19)] for _ in range(19)]\n",
    "tab.loc[0, 0] = 7\n",
    "#tab.loc[0, 1] = 1\n",
    "tab.loc[0, 2] = 1\n",
    "tab.loc[4, 1] = 1\n",
    "#tab.loc[0, 3] = 1\n",
    "tab.loc[0, 4] = -1\n",
    "tab.loc[1, 0] = -1\n",
    "tab.loc[1, 1] = -1\n",
    "tab.loc[1, 2] = 1\n",
    "tab.loc[2, 3] = 1\n",
    "#tab.loc[1, 4] = -1\n",
    "tab.loc[1, 0] = 1\n",
    "tab.loc[2, 0] = 1\n",
    "tab.loc[3, 0] = 1\n",
    "print(tab)"
   ]
  },
  {
   "cell_type": "code",
   "execution_count": null,
   "id": "641e2e9a",
   "metadata": {},
   "outputs": [],
   "source": [
    "reward = [[0, 0, 0, 0, 0, 100000], #closed\n",
    "          [0, 0, 0.1, 1, 100, 100000], #open 1\n",
    "          [0, 0, 0.5, 10, 1000, 100000] #open 2\n",
    "          ]\n",
    "player = 1\n",
    "board_size = 5\n",
    "win_len = 5\n",
    "i = 0\n",
    "j = 0\n",
    "result = 0\n",
    "while j <= board_size - 1:\n",
    "    if tab[j][i] == player:\n",
    "        open = 0\n",
    "        if j - 1 >= 0:\n",
    "            if tab[j - 1][i] == 0:\n",
    "                open = 1\n",
    "        k = 0\n",
    "        while k <= win_len and j <= board_size - 1 and tab[j][i] == player:\n",
    "            k += 1\n",
    "            j += 1\n",
    "        if j <= board_size:\n",
    "            if tab[j][i] == 0:\n",
    "                open += 1\n",
    "        #if k == win_len\n",
    "        #    return 100000\n",
    "        result += reward[open][k]\n",
    "        if tab[j][i] == - player:\n",
    "            open = 0\n",
    "            if j - 1 >= 0:\n",
    "                if tab[j - 1][i] == 0:\n",
    "                    open = 1\n",
    "            k = 0\n",
    "            while k <= win_len and j <= board_size - 1 and tab[j][i] == - player:\n",
    "                k += 1\n",
    "                j += 1\n",
    "            if j <= board_size:\n",
    "                if tab[j][i] == 0:\n",
    "                    open += 1\n",
    "            #if k == win_len\n",
    "            #    return -100000\n",
    "        result -= reward[open][k]\n",
    "    else:\n",
    "        j += 1"
   ]
  },
  {
   "cell_type": "code",
   "execution_count": null,
   "id": "552ef1e6",
   "metadata": {},
   "outputs": [],
   "source": [
    "def row_lines(board_size, win_len, tab, player):\n",
    "    i = 0\n",
    "    result = 0\n",
    "    while i <= board_size - 1:\n",
    "        j = 0\n",
    "        while j <= board_size - 1:\n",
    "            if tab[j][i] == player:\n",
    "                open = 0\n",
    "                if j - 1 >= 0:\n",
    "                    if tab[j - 1][i] == 0:\n",
    "                        open = 1\n",
    "                k = 0\n",
    "                while k <= win_len and j < board_size and tab[j][i] == player:\n",
    "                    k += 1\n",
    "                    j += 1\n",
    "                if j < board_size:\n",
    "                    if tab[j][i] == 0:\n",
    "                        open += 1\n",
    "                result += reward[open][k]\n",
    "            elif tab[j][i] == -player:\n",
    "                open = 0\n",
    "                if j - 1 >= 0:\n",
    "                    if tab[j - 1][i] == 0:\n",
    "                        open = 1\n",
    "                k = 0\n",
    "                while k <= win_len and j < board_size and tab[j][i] == -player:\n",
    "                    k += 1\n",
    "                    j += 1\n",
    "                if j < board_size:\n",
    "                    if tab[j][i] == 0:\n",
    "                        open += 1\n",
    "                result -= reward[open][k]\n",
    "            else:\n",
    "                j += 1\n",
    "        i += 1\n",
    "    return result"
   ]
  },
  {
   "cell_type": "code",
   "execution_count": 87,
   "id": "729c2c4e",
   "metadata": {},
   "outputs": [
    {
     "name": "stdout",
     "output_type": "stream",
     "text": [
      "10\n"
     ]
    }
   ],
   "source": [
    "player = 1\n",
    "res = row_lines(board_size, win_len, tab, player)\n",
    "res += row_lines(board_size, win_len, tab.transpose(), player)\n",
    "print(res)"
   ]
  },
  {
   "cell_type": "code",
   "execution_count": 49,
   "id": "3fa90aa4",
   "metadata": {},
   "outputs": [
    {
     "name": "stdout",
     "output_type": "stream",
     "text": [
      "DataFrame original:\n",
      "    A   B   C   D   E\n",
      "a   1   2   3   4   5\n",
      "b   6   7   8   9  10\n",
      "c  11  12  13  14  15\n",
      "d  16  17  18  19  20\n",
      "e  21  22  23  24  25\n",
      "\n",
      "Diagonales parallèles à la diagonale principale:\n",
      "Diagonale -4: [np.int64(5)]\n",
      "Diagonale -3: [np.int64(4), np.int64(10)]\n",
      "Diagonale -2: [np.int64(3), np.int64(9), np.int64(15)]\n",
      "Diagonale -1: [np.int64(2), np.int64(8), np.int64(14), np.int64(20)]\n",
      "Diagonale 0: [np.int64(1), np.int64(7), np.int64(13), np.int64(19), np.int64(25)]\n",
      "Diagonale 1: [np.int64(6), np.int64(12), np.int64(18), np.int64(24)]\n",
      "Diagonale 2: [np.int64(11), np.int64(17), np.int64(23)]\n",
      "Diagonale 3: [np.int64(16), np.int64(22)]\n",
      "Diagonale 4: [np.int64(21)]\n"
     ]
    }
   ],
   "source": [
    "data = np.arange(1, 26).reshape(5, 5)\n",
    "df = pd.DataFrame(data, index=['a', 'b', 'c', 'd', 'e'], columns=['A', 'B', 'C', 'D', 'E'])\n",
    "\n",
    "print(\"DataFrame original:\")\n",
    "print(df)\n",
    "\n",
    "# Fonction pour parcourir et afficher les diagonales parallèles à l'anti-diagonale\n",
    "def parcourir_diagonales_anti_principales(df):\n",
    "    n = df.shape[0]\n",
    "    for d in range(2 * n - 1):\n",
    "        diagonale = []\n",
    "        for i in range(max(0, d - n + 1), min(n, d + 1)):\n",
    "            j = n - 1 - (d - i)\n",
    "            diagonale.append(df.iloc[i, j])\n",
    "        print(f\"Anti-diagonale {d}: {diagonale}\")\n",
    "\n",
    "#print(\"\\nDiagonales parallèles à l'anti-diagonale:\")\n",
    "#parcourir_diagonales_anti_principales(df)\n",
    "\n",
    "# Fonction pour parcourir et afficher les diagonales parallèles à la diagonale principale\n",
    "def parcourir_diagonales_principales(df):\n",
    "    n = df.shape[0]\n",
    "    for d in range(-n + 1, n):\n",
    "        diagonale = []\n",
    "        for i in range(max(0, d), min(n, d + n)):\n",
    "            diagonale.append(df.iloc[i, i - d])\n",
    "        print(f\"Diagonale {d}: {diagonale}\")\n",
    "\n",
    "print(\"\\nDiagonales parallèles à la diagonale principale:\")\n",
    "parcourir_diagonales_principales(df)"
   ]
  },
  {
   "cell_type": "code",
   "execution_count": null,
   "id": "6c94a4f9",
   "metadata": {},
   "outputs": [
    {
     "name": "stdout",
     "output_type": "stream",
     "text": [
      "   0  1  2  3  4\n",
      "0  7  0  1  0 -1\n",
      "1  1 -1  1  0  0\n",
      "2  1  0  0  1  0\n",
      "3  1  0  0  0  0\n",
      "4  0  1  0  0  0\n",
      "\n",
      "j -4\n",
      "tab[0][4]    0\n",
      "\n",
      "j -3\n",
      "tab[0][3]    1\n",
      "open 0\n",
      "tab[0][3]    1\n",
      "tab[1][4]    1\n",
      "k 2 open 0\n",
      "\n",
      "j -2\n",
      "tab[0][2]    1\n",
      "open 0\n",
      "tab[0][2]    1\n",
      "tab[2][3] 0\n",
      "k 1 open 1\n",
      "tab[1][3]    0\n",
      "tab[2][4]    0\n",
      "\n",
      "j -1\n",
      "tab[0][1]    1\n",
      "open 0\n",
      "tab[0][1]    1\n",
      "tab[2][2] 0\n",
      "k 1 open 1\n",
      "tab[1][2]    0\n",
      "tab[2][3]    0\n",
      "tab[3][4]    0\n",
      "\n",
      "j 0\n",
      "tab[0][0]    7\n",
      "tab[1][1]    -1\n",
      "tab[2][2]    0\n",
      "tab[3][3]    0\n",
      "tab[4][4]    0\n",
      "\n",
      "j 1\n",
      "tab[1][0]    0\n",
      "tab[2][1]    1\n",
      "tab[1][0] 0\n",
      "open 1\n",
      "tab[2][1]    1\n",
      "tab[3][2]    1\n",
      "tab[5][3] 0\n",
      "k 2 open 2\n",
      "tab[4][3]    0\n",
      "\n",
      "j 2\n",
      "tab[2][0]    1\n",
      "open 0\n",
      "tab[2][0]    1\n",
      "tab[4][1] 0\n",
      "k 1 open 1\n",
      "tab[3][1]    0\n",
      "tab[4][2]    0\n",
      "\n",
      "j 3\n",
      "tab[3][0]    0\n",
      "tab[4][1]    0\n",
      "\n",
      "j 4\n",
      "tab[4][0]    -1\n"
     ]
    }
   ],
   "source": [
    "player = 1\n",
    "board_size = 5\n",
    "win_len = 5\n",
    "i = 0\n",
    "j =  1 - board_size\n",
    "result = 0\n",
    "\n",
    "print(tab)\n",
    "\n",
    "while j < board_size:\n",
    "    print('\\nj', j)\n",
    "    i = max(0, j)\n",
    "    while i < min(board_size, j + board_size):\n",
    "        print(f'tab[{i}][{i - j}]   ', tab[i][i - j])\n",
    "        if tab[i][i - j] == player:\n",
    "                open = 0\n",
    "                if i - 1 >= 0 and i - 1 - j >= 0:\n",
    "                    print(f\"tab[{i - 1}][{i - 1 - j}] {tab[i - 1][i - 1 - j]}\")\n",
    "                    if tab[i - 1][i - 1 - j] == 0:\n",
    "                        open = 1\n",
    "                print(f\"open {open}\")\n",
    "                k = 0\n",
    "                while k <= win_len and i < min(board_size, j + board_size) and tab[i][i - j] == player:\n",
    "                    print(f'tab[{i}][{i - j}]   ', tab[i][i - j])\n",
    "                    k += 1\n",
    "                    i += 1\n",
    "                if i < board_size and i - j < board_size:\n",
    "                    print(f\"tab[{i + 1}][{i - j}] {tab[i][i - j]}\")\n",
    "                    if tab[i][i - j] == 0:\n",
    "                        open += 1\n",
    "                print(f\"k {k} open {open}\")\n",
    "                result += reward[open][k]\n",
    "        else:\n",
    "            i += 1\n",
    "    j += 1\n"
   ]
  },
  {
   "cell_type": "code",
   "execution_count": 68,
   "id": "4f4a91d5",
   "metadata": {},
   "outputs": [
    {
     "name": "stdout",
     "output_type": "stream",
     "text": [
      "[[ 7  0  1  0 -1]\n",
      " [ 1 -1  1  0  0]\n",
      " [ 1  0  0  1  0]\n",
      " [ 1  0  0  0  0]\n",
      " [ 0  1  0  0  0]]\n",
      "[[-1  0  0  0  0]\n",
      " [ 0  0  1  0  0]\n",
      " [ 1  1  0  0  0]\n",
      " [ 0 -1  0  0  1]\n",
      " [ 7  1  1  1  0]]\n"
     ]
    }
   ],
   "source": [
    "tab  = [[0 for _ in range(board_size)] for _ in range(board_size)]\n",
    "tab = np.array(tab)\n",
    "\n",
    "tab[0, 0] = 7\n",
    "tab[0][2] = 1\n",
    "tab[4][1] = 1\n",
    "tab[0][4] = -1\n",
    "tab[1][0] = -1\n",
    "tab[1][1] = -1\n",
    "tab[1][2] = 1\n",
    "tab[2][3] = 1\n",
    "tab[1][0] = 1\n",
    "tab[2][0] = 1\n",
    "tab[3][0] = 1\n",
    "\n",
    "print(tab)\n",
    "\n",
    "tab = np.rot90(tab, k=1)\n",
    "\n",
    "print(tab)"
   ]
  }
 ],
 "metadata": {
  "kernelspec": {
   "display_name": "Python 3",
   "language": "python",
   "name": "python3"
  },
  "language_info": {
   "codemirror_mode": {
    "name": "ipython",
    "version": 3
   },
   "file_extension": ".py",
   "mimetype": "text/x-python",
   "name": "python",
   "nbconvert_exporter": "python",
   "pygments_lexer": "ipython3",
   "version": "3.10.17"
  }
 },
 "nbformat": 4,
 "nbformat_minor": 5
}

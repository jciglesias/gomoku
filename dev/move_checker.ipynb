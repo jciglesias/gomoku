{
 "cells": [
  {
   "cell_type": "code",
   "execution_count": 2,
   "id": "4fcb576a",
   "metadata": {},
   "outputs": [],
   "source": [
    "import pandas as pd\n",
    "import numpy as np\n",
    "import time"
   ]
  },
  {
   "cell_type": "code",
   "execution_count": 17,
   "id": "71a9e578",
   "metadata": {},
   "outputs": [],
   "source": [
    "board_size = 5\n",
    "win_length = 5\n",
    "player = 1\n",
    "directions = [(-1, -1),\n",
    "              (-1, 0),\n",
    "              (-1, 1),\n",
    "              (0, -1),\n",
    "              (0, 1),\n",
    "              (1, -1),\n",
    "              (1, 0),\n",
    "              (1, 1)\n",
    "              ]"
   ]
  },
  {
   "cell_type": "code",
   "execution_count": 34,
   "id": "98398a18",
   "metadata": {},
   "outputs": [
    {
     "name": "stdout",
     "output_type": "stream",
     "text": [
      "[[ 1  0  1  0 -1]\n",
      " [ 1 -1 -1  1  0]\n",
      " [ 1  0  0  1  0]\n",
      " [ 1  0  0  0  0]\n",
      " [ 0  1  0  0  0]]\n"
     ]
    }
   ],
   "source": [
    "tab  = [[0 for _ in range(board_size)] for _ in range(board_size)]\n",
    "tab = np.array(tab)\n",
    "\n",
    "tab[0, 0] = 1\n",
    "tab[0][2] = 1\n",
    "tab[4][1] = 1\n",
    "tab[0][4] = -1\n",
    "tab[1][0] = -1\n",
    "tab[1][1] = -1\n",
    "tab[1][2] = -1\n",
    "tab[1][3] = 1\n",
    "tab[2][3] = 1\n",
    "tab[1][0] = 1\n",
    "tab[2][0] = 1\n",
    "tab[3][0] = 1\n",
    "\n",
    "print(tab)"
   ]
  },
  {
   "cell_type": "code",
   "execution_count": 49,
   "id": "da578840",
   "metadata": {},
   "outputs": [
    {
     "name": "stdout",
     "output_type": "stream",
     "text": [
      "INIT = tab[1][1] -1\n",
      "MOI FINAL tab[1][2] -1\n",
      "True\n"
     ]
    }
   ],
   "source": [
    "row = 1\n",
    "col = 1\n",
    "player = -1\n",
    "print(f\"INIT = tab[{row}][{col}] {tab[row][col]}\")\n",
    "for i in range(8):\n",
    "        r = row  + directions[i][0]\n",
    "        c = col + directions[i][1]\n",
    "        if 0 <= r < board_size and 0 <= c < board_size:\n",
    "                if tab[r][c] == -player:\n",
    "                        # print(directions[i][0], directions[i][1])\n",
    "                        # print(f\"ADV tab[{r}][{c}] {tab[r][c]}\")\n",
    "                        r = row - directions[i][0]\n",
    "                        c = col - directions[i][1]\n",
    "                        if 0 <= r < board_size and 0 <= c < board_size:\n",
    "                                if tab[r][c] == player:\n",
    "                                        print(f\"MOI FINAL tab[{r}][{c}] {tab[r][c]}\")\n",
    "                                        r = row  - directions[i][0] * 2\n",
    "                                        c = col - directions[i][1] * 2\n",
    "                                        if 0 <= r < board_size and 0 <= c < board_size:\n",
    "                                                if tab[r][c] == -player:\n",
    "                                                        print('True')\n",
    "                                                "
   ]
  }
 ],
 "metadata": {
  "kernelspec": {
   "display_name": "Python 3",
   "language": "python",
   "name": "python3"
  },
  "language_info": {
   "codemirror_mode": {
    "name": "ipython",
    "version": 3
   },
   "file_extension": ".py",
   "mimetype": "text/x-python",
   "name": "python",
   "nbconvert_exporter": "python",
   "pygments_lexer": "ipython3",
   "version": "3.10.17"
  }
 },
 "nbformat": 4,
 "nbformat_minor": 5
}

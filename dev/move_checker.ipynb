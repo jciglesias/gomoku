{
 "cells": [
  {
   "cell_type": "code",
   "execution_count": 1,
   "id": "4fcb576a",
   "metadata": {},
   "outputs": [],
   "source": [
    "import pandas as pd\n",
    "import numpy as np\n",
    "import time"
   ]
  },
  {
   "cell_type": "code",
   "execution_count": 22,
   "id": "71a9e578",
   "metadata": {},
   "outputs": [],
   "source": [
    "board_size = 6\n",
    "win_length = 5\n",
    "player = 1\n",
    "directions = [(-1, -1),\n",
    "              (-1, 0),\n",
    "              (-1, 1),\n",
    "              (0, -1),\n",
    "              (0, 1),\n",
    "              (1, -1),\n",
    "              (1, 0),\n",
    "              (1, 1)\n",
    "              ]"
   ]
  },
  {
   "cell_type": "code",
   "execution_count": 49,
   "id": "da578840",
   "metadata": {},
   "outputs": [
    {
     "name": "stdout",
     "output_type": "stream",
     "text": [
      "INIT = tab[1][1] -1\n",
      "MOI FINAL tab[1][2] -1\n",
      "True\n"
     ]
    }
   ],
   "source": [
    "row = 1\n",
    "col = 1\n",
    "player = -1\n",
    "print(f\"INIT = tab[{row}][{col}] {tab[row][col]}\")\n",
    "for i in range(8):\n",
    "        r = row  + directions[i][0]\n",
    "        c = col + directions[i][1]\n",
    "        if 0 <= r < board_size and 0 <= c < board_size:\n",
    "                if tab[r][c] == -player:\n",
    "                        # print(directions[i][0], directions[i][1])\n",
    "                        # print(f\"ADV tab[{r}][{c}] {tab[r][c]}\")\n",
    "                        r = row - directions[i][0]\n",
    "                        c = col - directions[i][1]\n",
    "                        if 0 <= r < board_size and 0 <= c < board_size:\n",
    "                                if tab[r][c] == player:\n",
    "                                        print(f\"MOI FINAL tab[{r}][{c}] {tab[r][c]}\")\n",
    "                                        r = row  - directions[i][0] * 2\n",
    "                                        c = col - directions[i][1] * 2\n",
    "                                        if 0 <= r < board_size and 0 <= c < board_size:\n",
    "                                                if tab[r][c] == -player:\n",
    "                                                        print('True')\n",
    "                                                "
   ]
  },
  {
   "cell_type": "code",
   "execution_count": 19,
   "id": "817bf7da",
   "metadata": {},
   "outputs": [
    {
     "name": "stdout",
     "output_type": "stream",
     "text": [
      "[[0 0 0 0 0 0]\n",
      " [1 0 0 0 0 0]\n",
      " [0 0 0 0 0 0]\n",
      " [1 0 0 0 0 0]\n",
      " [1 0 0 0 0 0]\n",
      " [0 0 0 0 0 0]]\n"
     ]
    }
   ],
   "source": [
    "tab  = [[0 for _ in range(board_size)] for _ in range(board_size)]\n",
    "tab = np.array(tab)\n",
    "\n",
    "tab[1][0] = 1\n",
    "tab[3][0] = 1\n",
    "tab[4][0] = 1\n",
    "# tab[1][0] = -1\n",
    "# tab[1][1] = 0\n",
    "# tab[1][2] = 1\n",
    "# tab[1][3] = 1\n",
    "# tab[2][3] = 1\n",
    "# tab[1][0] = 1\n",
    "# tab[2][0] = 1\n",
    "# tab[3][0] = 1\n",
    "\n",
    "print(tab)"
   ]
  },
  {
   "cell_type": "code",
   "execution_count": 31,
   "id": "f708b5ce",
   "metadata": {},
   "outputs": [],
   "source": [
    "def check_column(board_size, win_len, tab, player):\n",
    "    i = 0\n",
    "    result = 0\n",
    "    while i < board_size:\n",
    "        j = 0\n",
    "        while j <= board_size - 1:\n",
    "            print(f\"tab[j][i] tab[{j}][{i}] {tab[j][i]}\")\n",
    "            if tab[j][i] == player:\n",
    "                if j - 1 >= 0:\n",
    "                    print(f\"tab[j - 1][i] tab[{j - 1}][{i}] {tab[j - 1][i]}\")\n",
    "                    if tab[j - 1][i] == 0:\n",
    "                        k = 0\n",
    "                        lap = 0\n",
    "                        while k < win_len and j < board_size and tab[j][i] != -player and lap < 2:\n",
    "                            print(f\"k {k} lap {lap} j {j} tab[j][i] tab[{j}][{i}]  {tab[j][i]}\")\n",
    "                            if tab[j][i] == player:\n",
    "                                k += 1\n",
    "                            else:\n",
    "                                lap += 1\n",
    "                            j += 1\n",
    "                        if j < board_size:\n",
    "                            if tab[j][i] == 0 and k == 3:\n",
    "                                result += 1\n",
    "                    else:\n",
    "                        j += 1\n",
    "                else:\n",
    "                    j += 1\n",
    "            else:\n",
    "                j += 1\n",
    "        i += 1\n",
    "    return result"
   ]
  },
  {
   "cell_type": "code",
   "execution_count": 32,
   "id": "e9e4a055",
   "metadata": {},
   "outputs": [
    {
     "name": "stdout",
     "output_type": "stream",
     "text": [
      "tab[j][i] tab[0][0] 0\n",
      "tab[j][i] tab[1][0] 1\n",
      "tab[j - 1][i] tab[0][0] 0\n",
      "k 0 lap 0 j 1 tab[j][i] tab[1][0]  1\n",
      "k 1 lap 0 j 2 tab[j][i] tab[2][0]  0\n",
      "k 1 lap 1 j 3 tab[j][i] tab[3][0]  1\n",
      "k 2 lap 1 j 4 tab[j][i] tab[4][0]  1\n",
      "tab[j][i] tab[5][0] 0\n",
      "tab[j][i] tab[0][1] 0\n",
      "tab[j][i] tab[1][1] 0\n",
      "tab[j][i] tab[2][1] 0\n",
      "tab[j][i] tab[3][1] 0\n",
      "tab[j][i] tab[4][1] 0\n",
      "tab[j][i] tab[5][1] 0\n",
      "tab[j][i] tab[0][2] 0\n",
      "tab[j][i] tab[1][2] 0\n",
      "tab[j][i] tab[2][2] 0\n",
      "tab[j][i] tab[3][2] 0\n",
      "tab[j][i] tab[4][2] 0\n",
      "tab[j][i] tab[5][2] 0\n",
      "tab[j][i] tab[0][3] 0\n",
      "tab[j][i] tab[1][3] 0\n",
      "tab[j][i] tab[2][3] 0\n",
      "tab[j][i] tab[3][3] 0\n",
      "tab[j][i] tab[4][3] 0\n",
      "tab[j][i] tab[5][3] 0\n",
      "tab[j][i] tab[0][4] 0\n",
      "tab[j][i] tab[1][4] 0\n",
      "tab[j][i] tab[2][4] 0\n",
      "tab[j][i] tab[3][4] 0\n",
      "tab[j][i] tab[4][4] 0\n",
      "tab[j][i] tab[5][4] 0\n",
      "tab[j][i] tab[0][5] 0\n",
      "tab[j][i] tab[1][5] 0\n",
      "tab[j][i] tab[2][5] 0\n",
      "tab[j][i] tab[3][5] 0\n",
      "tab[j][i] tab[4][5] 0\n",
      "tab[j][i] tab[5][5] 0\n",
      "res 1\n"
     ]
    }
   ],
   "source": [
    "res = check_column(len(tab), 3, tab, player)\n",
    "print(f\"res {res}\")"
   ]
  }
 ],
 "metadata": {
  "kernelspec": {
   "display_name": "Python 3",
   "language": "python",
   "name": "python3"
  },
  "language_info": {
   "codemirror_mode": {
    "name": "ipython",
    "version": 3
   },
   "file_extension": ".py",
   "mimetype": "text/x-python",
   "name": "python",
   "nbconvert_exporter": "python",
   "pygments_lexer": "ipython3",
   "version": "3.10.17"
  }
 },
 "nbformat": 4,
 "nbformat_minor": 5
}
